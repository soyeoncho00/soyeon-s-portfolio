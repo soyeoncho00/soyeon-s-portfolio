{
 "cells": [
  {
   "cell_type": "markdown",
   "metadata": {
    "id": "UPoQ2PNLvdsu"
   },
   "source": [
    "# 7. 순환 신경망\n",
    "## 7.2 LSTM"
   ]
  },
  {
   "cell_type": "code",
   "execution_count": 2,
   "metadata": {
    "id": "WD1s6ENBvds2"
   },
   "outputs": [
    {
     "name": "stderr",
     "output_type": "stream",
     "text": [
      "C:\\Users\\PNU\\.conda\\envs\\Pytorch\\lib\\site-packages\\tqdm\\auto.py:22: TqdmWarning: IProgress not found. Please update jupyter and ipywidgets. See https://ipywidgets.readthedocs.io/en/stable/user_install.html\n",
      "  from .autonotebook import tqdm as notebook_tqdm\n"
     ]
    }
   ],
   "source": [
    "import numpy as np\n",
    "import pandas as pd\n",
    "from sklearn.preprocessing import MinMaxScaler\n",
    "from sklearn.metrics import mean_squared_error\n",
    "\n",
    "import torch\n",
    "import torch.nn as nn\n",
    "import torch.optim as optim\n",
    "\n",
    "import matplotlib.pyplot as plt"
   ]
  },
  {
   "cell_type": "code",
   "execution_count": 3,
   "metadata": {
    "colab": {
     "base_uri": "https://localhost:8080/"
    },
    "executionInfo": {
     "elapsed": 17081,
     "status": "ok",
     "timestamp": 1636298221176,
     "user": {
      "displayName": "딥러닝호형",
      "photoUrl": "https://lh3.googleusercontent.com/a-/AOh14GhhDjkGnBZ0JW1k2J6y2lNP9dJeVbQWPuZEpfUc=s64",
      "userId": "11263585794403583722"
     },
     "user_tz": -60
    },
    "id": "oHErlstzvprE",
    "outputId": "64e5c24d-8edc-4ee4-e30d-ace063db07e8"
   },
   "outputs": [],
   "source": [
    "#from google.colab import drive\n",
    "#drive.mount('/content/gdrive')"
   ]
  },
  {
   "cell_type": "code",
   "execution_count": 4,
   "metadata": {
    "colab": {
     "base_uri": "https://localhost:8080/"
    },
    "executionInfo": {
     "elapsed": 188,
     "status": "ok",
     "timestamp": 1636298222418,
     "user": {
      "displayName": "딥러닝호형",
      "photoUrl": "https://lh3.googleusercontent.com/a-/AOh14GhhDjkGnBZ0JW1k2J6y2lNP9dJeVbQWPuZEpfUc=s64",
      "userId": "11263585794403583722"
     },
     "user_tz": -60
    },
    "id": "AIc5j8pFvlfG",
    "outputId": "50f033e0-b832-496f-d2b2-4d39282a060b"
   },
   "outputs": [],
   "source": [
    "#cd/content/gdrive/My Drive/pytorch_dlbro"
   ]
  },
  {
   "cell_type": "code",
   "execution_count": 5,
   "metadata": {
    "id": "ACuZSUyVvds3"
   },
   "outputs": [],
   "source": [
    "df = pd.read_csv(\"kospi.csv\")"
   ]
  },
  {
   "cell_type": "code",
   "execution_count": 6,
   "metadata": {
    "id": "-7FPuERbvds3"
   },
   "outputs": [],
   "source": [
    "scaler = MinMaxScaler()\n",
    "df[['Open','High','Low','Close','Volume']] = scaler.fit_transform(df[['Open','High','Low','Close','Volume']])"
   ]
  },
  {
   "cell_type": "code",
   "execution_count": 7,
   "metadata": {
    "colab": {
     "base_uri": "https://localhost:8080/",
     "height": 204
    },
    "executionInfo": {
     "elapsed": 9,
     "status": "ok",
     "timestamp": 1636298225977,
     "user": {
      "displayName": "딥러닝호형",
      "photoUrl": "https://lh3.googleusercontent.com/a-/AOh14GhhDjkGnBZ0JW1k2J6y2lNP9dJeVbQWPuZEpfUc=s64",
      "userId": "11263585794403583722"
     },
     "user_tz": -60
    },
    "id": "TTRKFaVkvds4",
    "outputId": "034ac7a7-8765-4bcd-911c-72e555c3f3c4"
   },
   "outputs": [
    {
     "data": {
      "text/html": [
       "<div>\n",
       "<style scoped>\n",
       "    .dataframe tbody tr th:only-of-type {\n",
       "        vertical-align: middle;\n",
       "    }\n",
       "\n",
       "    .dataframe tbody tr th {\n",
       "        vertical-align: top;\n",
       "    }\n",
       "\n",
       "    .dataframe thead th {\n",
       "        text-align: right;\n",
       "    }\n",
       "</style>\n",
       "<table border=\"1\" class=\"dataframe\">\n",
       "  <thead>\n",
       "    <tr style=\"text-align: right;\">\n",
       "      <th></th>\n",
       "      <th>Date</th>\n",
       "      <th>Open</th>\n",
       "      <th>High</th>\n",
       "      <th>Low</th>\n",
       "      <th>Close</th>\n",
       "      <th>Adj Close</th>\n",
       "      <th>Volume</th>\n",
       "    </tr>\n",
       "  </thead>\n",
       "  <tbody>\n",
       "    <tr>\n",
       "      <th>0</th>\n",
       "      <td>2019-01-30</td>\n",
       "      <td>0.722898</td>\n",
       "      <td>0.732351</td>\n",
       "      <td>0.745525</td>\n",
       "      <td>0.759235</td>\n",
       "      <td>2206.199951</td>\n",
       "      <td>0.242113</td>\n",
       "    </tr>\n",
       "    <tr>\n",
       "      <th>1</th>\n",
       "      <td>2019-01-31</td>\n",
       "      <td>0.763058</td>\n",
       "      <td>0.750069</td>\n",
       "      <td>0.769089</td>\n",
       "      <td>0.757866</td>\n",
       "      <td>2204.850098</td>\n",
       "      <td>0.274771</td>\n",
       "    </tr>\n",
       "    <tr>\n",
       "      <th>2</th>\n",
       "      <td>2019-02-01</td>\n",
       "      <td>0.751894</td>\n",
       "      <td>0.745714</td>\n",
       "      <td>0.769280</td>\n",
       "      <td>0.756456</td>\n",
       "      <td>2203.459961</td>\n",
       "      <td>0.241609</td>\n",
       "    </tr>\n",
       "    <tr>\n",
       "      <th>3</th>\n",
       "      <td>2019-02-07</td>\n",
       "      <td>0.755809</td>\n",
       "      <td>0.742538</td>\n",
       "      <td>0.764596</td>\n",
       "      <td>0.756415</td>\n",
       "      <td>2203.419922</td>\n",
       "      <td>0.215603</td>\n",
       "    </tr>\n",
       "    <tr>\n",
       "      <th>4</th>\n",
       "      <td>2019-02-08</td>\n",
       "      <td>0.731584</td>\n",
       "      <td>0.717777</td>\n",
       "      <td>0.739548</td>\n",
       "      <td>0.729669</td>\n",
       "      <td>2177.050049</td>\n",
       "      <td>0.197057</td>\n",
       "    </tr>\n",
       "  </tbody>\n",
       "</table>\n",
       "</div>"
      ],
      "text/plain": [
       "         Date      Open      High       Low     Close    Adj Close    Volume\n",
       "0  2019-01-30  0.722898  0.732351  0.745525  0.759235  2206.199951  0.242113\n",
       "1  2019-01-31  0.763058  0.750069  0.769089  0.757866  2204.850098  0.274771\n",
       "2  2019-02-01  0.751894  0.745714  0.769280  0.756456  2203.459961  0.241609\n",
       "3  2019-02-07  0.755809  0.742538  0.764596  0.756415  2203.419922  0.215603\n",
       "4  2019-02-08  0.731584  0.717777  0.739548  0.729669  2177.050049  0.197057"
      ]
     },
     "execution_count": 7,
     "metadata": {},
     "output_type": "execute_result"
    }
   ],
   "source": [
    "df.head()"
   ]
  },
  {
   "cell_type": "code",
   "execution_count": 8,
   "metadata": {
    "colab": {
     "base_uri": "https://localhost:8080/"
    },
    "executionInfo": {
     "elapsed": 4,
     "status": "ok",
     "timestamp": 1636298226271,
     "user": {
      "displayName": "딥러닝호형",
      "photoUrl": "https://lh3.googleusercontent.com/a-/AOh14GhhDjkGnBZ0JW1k2J6y2lNP9dJeVbQWPuZEpfUc=s64",
      "userId": "11263585794403583722"
     },
     "user_tz": -60
    },
    "id": "x8SNV2Bcvds5",
    "outputId": "27ee88c5-8073-40bb-ac3f-2c572eead3c9"
   },
   "outputs": [
    {
     "name": "stdout",
     "output_type": "stream",
     "text": [
      "<class 'pandas.core.frame.DataFrame'>\n",
      "RangeIndex: 431 entries, 0 to 430\n",
      "Data columns (total 7 columns):\n",
      " #   Column     Non-Null Count  Dtype  \n",
      "---  ------     --------------  -----  \n",
      " 0   Date       431 non-null    object \n",
      " 1   Open       431 non-null    float64\n",
      " 2   High       431 non-null    float64\n",
      " 3   Low        431 non-null    float64\n",
      " 4   Close      431 non-null    float64\n",
      " 5   Adj Close  431 non-null    float64\n",
      " 6   Volume     431 non-null    float64\n",
      "dtypes: float64(6), object(1)\n",
      "memory usage: 23.7+ KB\n"
     ]
    }
   ],
   "source": [
    "df.info()"
   ]
  },
  {
   "cell_type": "code",
   "execution_count": 9,
   "metadata": {
    "colab": {
     "base_uri": "https://localhost:8080/"
    },
    "executionInfo": {
     "elapsed": 311,
     "status": "ok",
     "timestamp": 1636298227103,
     "user": {
      "displayName": "딥러닝호형",
      "photoUrl": "https://lh3.googleusercontent.com/a-/AOh14GhhDjkGnBZ0JW1k2J6y2lNP9dJeVbQWPuZEpfUc=s64",
      "userId": "11263585794403583722"
     },
     "user_tz": -60
    },
    "id": "_2-Gw5JUvds6",
    "outputId": "986ea7ef-a60d-4313-fe05-a8f665752e85"
   },
   "outputs": [
    {
     "name": "stdout",
     "output_type": "stream",
     "text": [
      "cpu is available.\n"
     ]
    }
   ],
   "source": [
    "# CPU/GPU\n",
    "device = torch.device(\"cuda:0\" if torch.cuda.is_available() else \"cpu\")\n",
    "print(f'{device} is available.')"
   ]
  },
  {
   "cell_type": "code",
   "execution_count": 10,
   "metadata": {
    "id": "DjoUk9Edvds7"
   },
   "outputs": [],
   "source": [
    "# Dataset\n",
    "X = df[['Open','High','Low','Volume']].values\n",
    "y = df['Close'].values"
   ]
  },
  {
   "cell_type": "code",
   "execution_count": 11,
   "metadata": {
    "id": "Jk0UdxtZvds7"
   },
   "outputs": [],
   "source": [
    "def seq_data(x, y, sequence_length):\n",
    "    \n",
    "    x_seq = []\n",
    "    y_seq = []\n",
    "    for i in range(len(x)-sequence_length):\n",
    "        x_seq.append(x[i:i+sequence_length])\n",
    "        y_seq.append(y[i+sequence_length])\n",
    "    \n",
    "    return torch.FloatTensor(x_seq).to(device), torch.FloatTensor(y_seq).to(device).view([-1, 1]) "
   ]
  },
  {
   "cell_type": "code",
   "execution_count": 12,
   "metadata": {
    "colab": {
     "base_uri": "https://localhost:8080/"
    },
    "executionInfo": {
     "elapsed": 14584,
     "status": "ok",
     "timestamp": 1636298244485,
     "user": {
      "displayName": "딥러닝호형",
      "photoUrl": "https://lh3.googleusercontent.com/a-/AOh14GhhDjkGnBZ0JW1k2J6y2lNP9dJeVbQWPuZEpfUc=s64",
      "userId": "11263585794403583722"
     },
     "user_tz": -60
    },
    "id": "4mzJHoZwvds8",
    "outputId": "89df3d73-a99a-4ae1-9a97-bc476ddd597a"
   },
   "outputs": [
    {
     "name": "stdout",
     "output_type": "stream",
     "text": [
      "torch.Size([200, 5, 4]) torch.Size([200, 1])\n",
      "torch.Size([226, 5, 4]) torch.Size([226, 1])\n"
     ]
    },
    {
     "name": "stderr",
     "output_type": "stream",
     "text": [
      "C:\\Users\\PNU\\.conda\\envs\\Pytorch\\lib\\site-packages\\ipykernel_launcher.py:9: UserWarning: Creating a tensor from a list of numpy.ndarrays is extremely slow. Please consider converting the list to a single numpy.ndarray with numpy.array() before converting to a tensor. (Triggered internally at  C:\\Users\\builder\\tkoch\\workspace\\pytorch\\pytorch_1647970138273\\work\\torch\\csrc\\utils\\tensor_new.cpp:201.)\n",
      "  if __name__ == '__main__':\n"
     ]
    }
   ],
   "source": [
    "split = 200\n",
    "sequence_length = 5\n",
    "\n",
    "x_seq, y_seq = seq_data(X, y, sequence_length)\n",
    "x_train_seq = x_seq[:split]\n",
    "y_train_seq = y_seq[:split]\n",
    "x_test_seq = x_seq[split:]\n",
    "y_test_seq = y_seq[split:]\n",
    "print(x_train_seq.size(), y_train_seq.size())\n",
    "print(x_test_seq.size(), y_test_seq.size())"
   ]
  },
  {
   "cell_type": "code",
   "execution_count": 13,
   "metadata": {
    "id": "INxfAxbxvds8"
   },
   "outputs": [],
   "source": [
    "train = torch.utils.data.TensorDataset(x_train_seq, y_train_seq)\n",
    "test = torch.utils.data.TensorDataset(x_test_seq, y_test_seq)\n",
    "\n",
    "batch_size = 20\n",
    "train_loader = torch.utils.data.DataLoader(dataset=train, batch_size=batch_size, shuffle=False)\n",
    "test_loader = torch.utils.data.DataLoader(dataset=test, batch_size=batch_size, shuffle=False)"
   ]
  },
  {
   "cell_type": "code",
   "execution_count": 14,
   "metadata": {
    "id": "d99NkicKvds9"
   },
   "outputs": [],
   "source": [
    "# RNN\n",
    "input_size = x_seq.size(2)\n",
    "num_layers = 2\n",
    "hidden_size = 8"
   ]
  },
  {
   "cell_type": "code",
   "execution_count": 15,
   "metadata": {
    "id": "yA-8PEe8vds-"
   },
   "outputs": [],
   "source": [
    "class LSTM(nn.Module):\n",
    "    \n",
    "    def __init__(self, input_size, hidden_size, sequence_length, num_layers, device):\n",
    "        super(LSTM, self).__init__()\n",
    "        self.device = device\n",
    "        self.hidden_size = hidden_size\n",
    "        self.num_layers = num_layers\n",
    "        self.lstm = nn.LSTM(input_size, hidden_size, num_layers, batch_first=True)\n",
    "        self.fc = nn.Linear(hidden_size*sequence_length, 1)\n",
    "        \n",
    "    def forward(self, x):\n",
    "        h0 = torch.zeros(self.num_layers, x.size(0), self.hidden_size).to(self.device)\n",
    "        c0 = torch.zeros(self.num_layers, x.size(0), self.hidden_size).to(self.device) # <- cell state 추가\n",
    "        out, _ = self.lstm(x, (h0, c0)) # output, (hn, cn): cell state와 hidden state만 반환\n",
    "        out = out.reshape(out.shape[0], -1) # <- state 추가\n",
    "        out = self.fc(out)\n",
    "        return out"
   ]
  },
  {
   "cell_type": "code",
   "execution_count": 16,
   "metadata": {
    "id": "tVkK9YjJvds_"
   },
   "outputs": [],
   "source": [
    "model = LSTM(input_size=input_size, \n",
    "                   hidden_size=hidden_size, \n",
    "                   sequence_length=sequence_length, \n",
    "                   num_layers=num_layers, device=device)    \n",
    "\n",
    "model = model.to(device)             "
   ]
  },
  {
   "cell_type": "code",
   "execution_count": 17,
   "metadata": {
    "id": "X5K3lN8xvds_"
   },
   "outputs": [],
   "source": [
    "criterion = nn.MSELoss()\n",
    "\n",
    "lr = 1e-3\n",
    "num_epochs = 301 \n",
    "optimizer = optim.Adam(model.parameters(), lr=lr)\n"
   ]
  },
  {
   "cell_type": "code",
   "execution_count": 18,
   "metadata": {
    "colab": {
     "base_uri": "https://localhost:8080/"
    },
    "executionInfo": {
     "elapsed": 11561,
     "status": "ok",
     "timestamp": 1636298268007,
     "user": {
      "displayName": "딥러닝호형",
      "photoUrl": "https://lh3.googleusercontent.com/a-/AOh14GhhDjkGnBZ0JW1k2J6y2lNP9dJeVbQWPuZEpfUc=s64",
      "userId": "11263585794403583722"
     },
     "user_tz": -60
    },
    "id": "0k2ncgPqvdtA",
    "outputId": "27406b39-a2ce-4f11-8637-17e95109116d"
   },
   "outputs": [
    {
     "name": "stdout",
     "output_type": "stream",
     "text": [
      "[epoch: 0] loss: 0.5185\n",
      "[epoch: 100] loss: 0.0011\n",
      "[epoch: 200] loss: 0.0010\n",
      "[epoch: 300] loss: 0.0010\n"
     ]
    }
   ],
   "source": [
    "loss_graph = []\n",
    "n = len(train_loader)\n",
    "for epoch in range(num_epochs):\n",
    "    running_loss = 0.0\n",
    "    \n",
    "    for data in train_loader:\n",
    "        \n",
    "        seq, target = data # 배치 데이터 \n",
    "        out = model(seq)\n",
    "        loss = criterion(out, target)\n",
    "        \n",
    "        optimizer.zero_grad()\n",
    "        loss.backward()\n",
    "        optimizer.step()\n",
    "        running_loss += loss.item()\n",
    "    \n",
    "    loss_graph.append(running_loss/n)\n",
    "    if epoch % 100 == 0:\n",
    "        print('[epoch: %d] loss: %.4f' %(epoch, running_loss/n))"
   ]
  },
  {
   "cell_type": "code",
   "execution_count": 19,
   "metadata": {
    "colab": {
     "base_uri": "https://localhost:8080/",
     "height": 592
    },
    "executionInfo": {
     "elapsed": 739,
     "status": "ok",
     "timestamp": 1636298270148,
     "user": {
      "displayName": "딥러닝호형",
      "photoUrl": "https://lh3.googleusercontent.com/a-/AOh14GhhDjkGnBZ0JW1k2J6y2lNP9dJeVbQWPuZEpfUc=s64",
      "userId": "11263585794403583722"
     },
     "user_tz": -60
    },
    "id": "SQ_TayZYvdtB",
    "outputId": "ec75f8bc-d913-43e1-b9f6-f5d6601e47d0"
   },
   "outputs": [
    {
     "data": {
      "image/png": "[encoded data removed]",
      "text/plain": [
       "<Figure size 1440x720 with 1 Axes>"
      ]
     },
     "metadata": {
      "needs_background": "light"
     },
     "output_type": "display_data"
    }
   ],
   "source": [
    "plt.figure(figsize=(20,10))\n",
    "plt.plot(loss_graph)\n",
    "plt.show() "
   ]
  },
  {
   "cell_type": "code",
   "execution_count": 20,
   "metadata": {
    "colab": {
     "base_uri": "https://localhost:8080/",
     "height": 592
    },
    "executionInfo": {
     "elapsed": 701,
     "status": "ok",
     "timestamp": 1636298273146,
     "user": {
      "displayName": "딥러닝호형",
      "photoUrl": "https://lh3.googleusercontent.com/a-/AOh14GhhDjkGnBZ0JW1k2J6y2lNP9dJeVbQWPuZEpfUc=s64",
      "userId": "11263585794403583722"
     },
     "user_tz": -60
    },
    "id": "hTEJmHOxvdtB",
    "outputId": "140eab91-e9d7-44e7-fed5-413e7b9eb165"
   },
   "outputs": [
    {
     "data": {
      "image/png": "[encoded data removed]",
      "text/plain": [
       "<Figure size 1440x720 with 1 Axes>"
      ]
     },
     "metadata": {
      "needs_background": "light"
     },
     "output_type": "display_data"
    },
    {
     "name": "stdout",
     "output_type": "stream",
     "text": [
      "Test MSE: 0.004169\n"
     ]
    }
   ],
   "source": [
    "concatdata = torch.utils.data.ConcatDataset([train, test])\n",
    "data_loader = torch.utils.data.DataLoader(dataset=concatdata, batch_size=100, shuffle=False)\n",
    "\n",
    "with torch.no_grad():\n",
    "    pred = []\n",
    "\n",
    "    for data in data_loader:\n",
    "        seq, target = data\n",
    "        out = model(seq)\n",
    "        pred += out.cpu().tolist()\n",
    "\n",
    "plt.figure(figsize=(20,10))\n",
    "plt.plot(np.ones(100)*len(train),np.linspace(0,1,100),'--', linewidth=0.6)\n",
    "plt.plot(df['Close'][sequence_length:].values,'--')\n",
    "plt.plot(pred,'b', linewidth=0.6)\n",
    "plt.legend(['train boundary','actual','prediction'])\n",
    "plt.show() \n",
    "\n",
    "error = mean_squared_error(df['Close'][sequence_length:],pred)\n",
    "print('Test MSE: %f' %error)"
   ]
  },
  {
   "cell_type": "code",
   "execution_count": null,
   "metadata": {
    "id": "BmS6RB_U0vL9"
   },
   "outputs": [],
   "source": []
  }
 ],
 "metadata": {
  "accelerator": "GPU",
  "colab": {
   "collapsed_sections": [],
   "name": "7.2 LSTM.ipynb",
   "provenance": []
  },
  "kernelspec": {
   "display_name": "Python 3 (ipykernel)",
   "language": "python",
   "name": "python3"
  },
  "language_info": {
   "codemirror_mode": {
    "name": "ipython",
    "version": 3
   },
   "file_extension": ".py",
   "mimetype": "text/x-python",
   "name": "python",
   "nbconvert_exporter": "python",
   "pygments_lexer": "ipython3",
   "version": "3.7.13"
  }
 },
 "nbformat": 4,
 "nbformat_minor": 1
}
