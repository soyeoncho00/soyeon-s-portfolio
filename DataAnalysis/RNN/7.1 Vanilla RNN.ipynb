{
 "cells": [
  {
   "cell_type": "markdown",
   "metadata": {
    "id": "7VGuuPjyyCou"
   },
   "source": [
    "# 7. 순환 신경망\n",
    "## 7.1 기본 순환 신경망"
   ]
  },
  {
   "cell_type": "code",
   "execution_count": 51,
   "metadata": {
    "executionInfo": {
     "elapsed": 26893,
     "status": "ok",
     "timestamp": 1637553495056,
     "user": {
      "displayName": "딥러닝호형",
      "photoUrl": "https://lh3.googleusercontent.com/a-/AOh14GhhDjkGnBZ0JW1k2J6y2lNP9dJeVbQWPuZEpfUc=s64",
      "userId": "11263585794403583722"
     },
     "user_tz": -60
    },
    "id": "jZgYzwG3yCo5"
   },
   "outputs": [],
   "source": [
    "import numpy as np\n",
    "import pandas as pd\n",
    "from sklearn.preprocessing import MinMaxScaler\n",
    "from sklearn.metrics import mean_squared_error\n",
    "\n",
    "import torch\n",
    "import torch.nn as nn\n",
    "import torch.optim as optim\n",
    "\n",
    "import matplotlib.pyplot as plt"
   ]
  },
  {
   "cell_type": "code",
   "execution_count": 52,
   "metadata": {
    "colab": {
     "base_uri": "https://localhost:8080/"
    },
    "executionInfo": {
     "elapsed": 19865,
     "status": "ok",
     "timestamp": 1637553514915,
     "user": {
      "displayName": "딥러닝호형",
      "photoUrl": "https://lh3.googleusercontent.com/a-/AOh14GhhDjkGnBZ0JW1k2J6y2lNP9dJeVbQWPuZEpfUc=s64",
      "userId": "11263585794403583722"
     },
     "user_tz": -60
    },
    "id": "hDRxDX46yLy4",
    "outputId": "64ad7b7f-107c-44dc-9fd4-169495921f65"
   },
   "outputs": [],
   "source": [
    "#from google.colab import drive\n",
    "#drive.mount('/content/gdrive')"
   ]
  },
  {
   "cell_type": "code",
   "execution_count": 53,
   "metadata": {
    "colab": {
     "base_uri": "https://localhost:8080/"
    },
    "executionInfo": {
     "elapsed": 301,
     "status": "ok",
     "timestamp": 1637553515205,
     "user": {
      "displayName": "딥러닝호형",
      "photoUrl": "https://lh3.googleusercontent.com/a-/AOh14GhhDjkGnBZ0JW1k2J6y2lNP9dJeVbQWPuZEpfUc=s64",
      "userId": "11263585794403583722"
     },
     "user_tz": -60
    },
    "id": "RI0n8kCGyL9Y",
    "outputId": "4c69583d-6e24-4c80-9922-ef7aebc5615b"
   },
   "outputs": [],
   "source": [
    "#cd/content/gdrive/My Drive/pytorch_dlbro"
   ]
  },
  {
   "cell_type": "code",
   "execution_count": 54,
   "metadata": {
    "executionInfo": {
     "elapsed": 822,
     "status": "ok",
     "timestamp": 1637553516024,
     "user": {
      "displayName": "딥러닝호형",
      "photoUrl": "https://lh3.googleusercontent.com/a-/AOh14GhhDjkGnBZ0JW1k2J6y2lNP9dJeVbQWPuZEpfUc=s64",
      "userId": "11263585794403583722"
     },
     "user_tz": -60
    },
    "id": "vXBsywcXyCo7"
   },
   "outputs": [],
   "source": [
    "df = pd.read_csv(\"kospi.csv\")"
   ]
  },
  {
   "cell_type": "code",
   "execution_count": 55,
   "metadata": {
    "colab": {
     "base_uri": "https://localhost:8080/",
     "height": 204
    },
    "executionInfo": {
     "elapsed": 17,
     "status": "ok",
     "timestamp": 1637553516025,
     "user": {
      "displayName": "딥러닝호형",
      "photoUrl": "https://lh3.googleusercontent.com/a-/AOh14GhhDjkGnBZ0JW1k2J6y2lNP9dJeVbQWPuZEpfUc=s64",
      "userId": "11263585794403583722"
     },
     "user_tz": -60
    },
    "id": "tqZ1DIQTWgIG",
    "outputId": "d863d04f-22b8-4ae7-fb11-7168dfebb0a8"
   },
   "outputs": [
    {
     "data": {
      "text/html": [
       "<div>\n",
       "<style scoped>\n",
       "    .dataframe tbody tr th:only-of-type {\n",
       "        vertical-align: middle;\n",
       "    }\n",
       "\n",
       "    .dataframe tbody tr th {\n",
       "        vertical-align: top;\n",
       "    }\n",
       "\n",
       "    .dataframe thead th {\n",
       "        text-align: right;\n",
       "    }\n",
       "</style>\n",
       "<table border=\"1\" class=\"dataframe\">\n",
       "  <thead>\n",
       "    <tr style=\"text-align: right;\">\n",
       "      <th></th>\n",
       "      <th>Date</th>\n",
       "      <th>Open</th>\n",
       "      <th>High</th>\n",
       "      <th>Low</th>\n",
       "      <th>Close</th>\n",
       "      <th>Adj Close</th>\n",
       "      <th>Volume</th>\n",
       "    </tr>\n",
       "  </thead>\n",
       "  <tbody>\n",
       "    <tr>\n",
       "      <th>0</th>\n",
       "      <td>2019-01-30</td>\n",
       "      <td>2183.489990</td>\n",
       "      <td>2206.199951</td>\n",
       "      <td>2177.879883</td>\n",
       "      <td>2206.199951</td>\n",
       "      <td>2206.199951</td>\n",
       "      <td>480400</td>\n",
       "    </tr>\n",
       "    <tr>\n",
       "      <th>1</th>\n",
       "      <td>2019-01-31</td>\n",
       "      <td>2222.879883</td>\n",
       "      <td>2222.879883</td>\n",
       "      <td>2201.219971</td>\n",
       "      <td>2204.850098</td>\n",
       "      <td>2204.850098</td>\n",
       "      <td>545200</td>\n",
       "    </tr>\n",
       "    <tr>\n",
       "      <th>2</th>\n",
       "      <td>2019-02-01</td>\n",
       "      <td>2211.929932</td>\n",
       "      <td>2218.780029</td>\n",
       "      <td>2201.409912</td>\n",
       "      <td>2203.459961</td>\n",
       "      <td>2203.459961</td>\n",
       "      <td>479400</td>\n",
       "    </tr>\n",
       "    <tr>\n",
       "      <th>3</th>\n",
       "      <td>2019-02-07</td>\n",
       "      <td>2215.770020</td>\n",
       "      <td>2215.790039</td>\n",
       "      <td>2196.770020</td>\n",
       "      <td>2203.419922</td>\n",
       "      <td>2203.419922</td>\n",
       "      <td>427800</td>\n",
       "    </tr>\n",
       "    <tr>\n",
       "      <th>4</th>\n",
       "      <td>2019-02-08</td>\n",
       "      <td>2192.010010</td>\n",
       "      <td>2192.479980</td>\n",
       "      <td>2171.959961</td>\n",
       "      <td>2177.050049</td>\n",
       "      <td>2177.050049</td>\n",
       "      <td>391000</td>\n",
       "    </tr>\n",
       "  </tbody>\n",
       "</table>\n",
       "</div>"
      ],
      "text/plain": [
       "         Date         Open         High          Low        Close  \\\n",
       "0  2019-01-30  2183.489990  2206.199951  2177.879883  2206.199951   \n",
       "1  2019-01-31  2222.879883  2222.879883  2201.219971  2204.850098   \n",
       "2  2019-02-01  2211.929932  2218.780029  2201.409912  2203.459961   \n",
       "3  2019-02-07  2215.770020  2215.790039  2196.770020  2203.419922   \n",
       "4  2019-02-08  2192.010010  2192.479980  2171.959961  2177.050049   \n",
       "\n",
       "     Adj Close  Volume  \n",
       "0  2206.199951  480400  \n",
       "1  2204.850098  545200  \n",
       "2  2203.459961  479400  \n",
       "3  2203.419922  427800  \n",
       "4  2177.050049  391000  "
      ]
     },
     "execution_count": 55,
     "metadata": {},
     "output_type": "execute_result"
    }
   ],
   "source": [
    "df.head()"
   ]
  },
  {
   "cell_type": "code",
   "execution_count": 56,
   "metadata": {
    "executionInfo": {
     "elapsed": 15,
     "status": "ok",
     "timestamp": 1637553516026,
     "user": {
      "displayName": "딥러닝호형",
      "photoUrl": "https://lh3.googleusercontent.com/a-/AOh14GhhDjkGnBZ0JW1k2J6y2lNP9dJeVbQWPuZEpfUc=s64",
      "userId": "11263585794403583722"
     },
     "user_tz": -60
    },
    "id": "n80viFA2yCo7"
   },
   "outputs": [],
   "source": [
    "scaler = MinMaxScaler()\n",
    "df[['Open','High','Low','Close','Volume']] = scaler.fit_transform(df[['Open','High','Low','Close','Volume']])"
   ]
  },
  {
   "cell_type": "code",
   "execution_count": 57,
   "metadata": {
    "colab": {
     "base_uri": "https://localhost:8080/",
     "height": 204
    },
    "executionInfo": {
     "elapsed": 395,
     "status": "ok",
     "timestamp": 1637553516408,
     "user": {
      "displayName": "딥러닝호형",
      "photoUrl": "https://lh3.googleusercontent.com/a-/AOh14GhhDjkGnBZ0JW1k2J6y2lNP9dJeVbQWPuZEpfUc=s64",
      "userId": "11263585794403583722"
     },
     "user_tz": -60
    },
    "id": "yT4eN6kYyCo7",
    "outputId": "4ecee93a-6dfa-4995-f7b9-0d561a4b124b"
   },
   "outputs": [
    {
     "data": {
      "text/html": [
       "<div>\n",
       "<style scoped>\n",
       "    .dataframe tbody tr th:only-of-type {\n",
       "        vertical-align: middle;\n",
       "    }\n",
       "\n",
       "    .dataframe tbody tr th {\n",
       "        vertical-align: top;\n",
       "    }\n",
       "\n",
       "    .dataframe thead th {\n",
       "        text-align: right;\n",
       "    }\n",
       "</style>\n",
       "<table border=\"1\" class=\"dataframe\">\n",
       "  <thead>\n",
       "    <tr style=\"text-align: right;\">\n",
       "      <th></th>\n",
       "      <th>Date</th>\n",
       "      <th>Open</th>\n",
       "      <th>High</th>\n",
       "      <th>Low</th>\n",
       "      <th>Close</th>\n",
       "      <th>Adj Close</th>\n",
       "      <th>Volume</th>\n",
       "    </tr>\n",
       "  </thead>\n",
       "  <tbody>\n",
       "    <tr>\n",
       "      <th>0</th>\n",
       "      <td>2019-01-30</td>\n",
       "      <td>0.722898</td>\n",
       "      <td>0.732351</td>\n",
       "      <td>0.745525</td>\n",
       "      <td>0.759235</td>\n",
       "      <td>2206.199951</td>\n",
       "      <td>0.242113</td>\n",
       "    </tr>\n",
       "    <tr>\n",
       "      <th>1</th>\n",
       "      <td>2019-01-31</td>\n",
       "      <td>0.763058</td>\n",
       "      <td>0.750069</td>\n",
       "      <td>0.769089</td>\n",
       "      <td>0.757866</td>\n",
       "      <td>2204.850098</td>\n",
       "      <td>0.274771</td>\n",
       "    </tr>\n",
       "    <tr>\n",
       "      <th>2</th>\n",
       "      <td>2019-02-01</td>\n",
       "      <td>0.751894</td>\n",
       "      <td>0.745714</td>\n",
       "      <td>0.769280</td>\n",
       "      <td>0.756456</td>\n",
       "      <td>2203.459961</td>\n",
       "      <td>0.241609</td>\n",
       "    </tr>\n",
       "    <tr>\n",
       "      <th>3</th>\n",
       "      <td>2019-02-07</td>\n",
       "      <td>0.755809</td>\n",
       "      <td>0.742538</td>\n",
       "      <td>0.764596</td>\n",
       "      <td>0.756415</td>\n",
       "      <td>2203.419922</td>\n",
       "      <td>0.215603</td>\n",
       "    </tr>\n",
       "    <tr>\n",
       "      <th>4</th>\n",
       "      <td>2019-02-08</td>\n",
       "      <td>0.731584</td>\n",
       "      <td>0.717777</td>\n",
       "      <td>0.739548</td>\n",
       "      <td>0.729669</td>\n",
       "      <td>2177.050049</td>\n",
       "      <td>0.197057</td>\n",
       "    </tr>\n",
       "  </tbody>\n",
       "</table>\n",
       "</div>"
      ],
      "text/plain": [
       "         Date      Open      High       Low     Close    Adj Close    Volume\n",
       "0  2019-01-30  0.722898  0.732351  0.745525  0.759235  2206.199951  0.242113\n",
       "1  2019-01-31  0.763058  0.750069  0.769089  0.757866  2204.850098  0.274771\n",
       "2  2019-02-01  0.751894  0.745714  0.769280  0.756456  2203.459961  0.241609\n",
       "3  2019-02-07  0.755809  0.742538  0.764596  0.756415  2203.419922  0.215603\n",
       "4  2019-02-08  0.731584  0.717777  0.739548  0.729669  2177.050049  0.197057"
      ]
     },
     "execution_count": 57,
     "metadata": {},
     "output_type": "execute_result"
    }
   ],
   "source": [
    "df.head()"
   ]
  },
  {
   "cell_type": "code",
   "execution_count": 58,
   "metadata": {
    "colab": {
     "base_uri": "https://localhost:8080/"
    },
    "executionInfo": {
     "elapsed": 6,
     "status": "ok",
     "timestamp": 1637553516409,
     "user": {
      "displayName": "딥러닝호형",
      "photoUrl": "https://lh3.googleusercontent.com/a-/AOh14GhhDjkGnBZ0JW1k2J6y2lNP9dJeVbQWPuZEpfUc=s64",
      "userId": "11263585794403583722"
     },
     "user_tz": -60
    },
    "id": "eXkTgV6YyCo9",
    "outputId": "1da2bbc8-aa29-409c-e346-fb4ef41427e7"
   },
   "outputs": [
    {
     "name": "stdout",
     "output_type": "stream",
     "text": [
      "<class 'pandas.core.frame.DataFrame'>\n",
      "RangeIndex: 431 entries, 0 to 430\n",
      "Data columns (total 7 columns):\n",
      " #   Column     Non-Null Count  Dtype  \n",
      "---  ------     --------------  -----  \n",
      " 0   Date       431 non-null    object \n",
      " 1   Open       431 non-null    float64\n",
      " 2   High       431 non-null    float64\n",
      " 3   Low        431 non-null    float64\n",
      " 4   Close      431 non-null    float64\n",
      " 5   Adj Close  431 non-null    float64\n",
      " 6   Volume     431 non-null    float64\n",
      "dtypes: float64(6), object(1)\n",
      "memory usage: 23.7+ KB\n"
     ]
    }
   ],
   "source": [
    "df.info()"
   ]
  },
  {
   "cell_type": "code",
   "execution_count": 59,
   "metadata": {
    "colab": {
     "base_uri": "https://localhost:8080/"
    },
    "executionInfo": {
     "elapsed": 264,
     "status": "ok",
     "timestamp": 1637553517102,
     "user": {
      "displayName": "딥러닝호형",
      "photoUrl": "https://lh3.googleusercontent.com/a-/AOh14GhhDjkGnBZ0JW1k2J6y2lNP9dJeVbQWPuZEpfUc=s64",
      "userId": "11263585794403583722"
     },
     "user_tz": -60
    },
    "id": "cDD0aOYHyCo-",
    "outputId": "c90a54f1-3327-4e9c-e36b-927283a84001"
   },
   "outputs": [
    {
     "name": "stdout",
     "output_type": "stream",
     "text": [
      "cpu is available.\n"
     ]
    }
   ],
   "source": [
    "# CPU/GPU\n",
    "device = torch.device(\"cuda:0\" if torch.cuda.is_available() else \"cpu\")\n",
    "print(f'{device} is available.')"
   ]
  },
  {
   "cell_type": "code",
   "execution_count": 60,
   "metadata": {
    "executionInfo": {
     "elapsed": 3,
     "status": "ok",
     "timestamp": 1637553518766,
     "user": {
      "displayName": "딥러닝호형",
      "photoUrl": "https://lh3.googleusercontent.com/a-/AOh14GhhDjkGnBZ0JW1k2J6y2lNP9dJeVbQWPuZEpfUc=s64",
      "userId": "11263585794403583722"
     },
     "user_tz": -60
    },
    "id": "sdyNDPAkyCo_"
   },
   "outputs": [],
   "source": [
    "# Dataset\n",
    "X = df[['Open','High','Low','Volume']].values\n",
    "y = df['Close'].values"
   ]
  },
  {
   "cell_type": "code",
   "execution_count": 61,
   "metadata": {
    "executionInfo": {
     "elapsed": 3,
     "status": "ok",
     "timestamp": 1637553519073,
     "user": {
      "displayName": "딥러닝호형",
      "photoUrl": "https://lh3.googleusercontent.com/a-/AOh14GhhDjkGnBZ0JW1k2J6y2lNP9dJeVbQWPuZEpfUc=s64",
      "userId": "11263585794403583722"
     },
     "user_tz": -60
    },
    "id": "JRXgzuMcyCpA"
   },
   "outputs": [],
   "source": [
    "def seq_data(x, y, sequence_length):\n",
    "    \n",
    "    x_seq = []\n",
    "    y_seq = []\n",
    "    for i in range(len(x)-sequence_length):\n",
    "        x_seq.append(x[i:i+sequence_length]) # a[2:6] -> 2,3,4,5\n",
    "        y_seq.append(y[i+sequence_length])\n",
    "    \n",
    "    return torch.FloatTensor(x_seq).to(device), torch.FloatTensor(y_seq).to(device).view(-1, 1) "
   ]
  },
  {
   "cell_type": "code",
   "execution_count": 62,
   "metadata": {
    "colab": {
     "base_uri": "https://localhost:8080/"
    },
    "executionInfo": {
     "elapsed": 14838,
     "status": "ok",
     "timestamp": 1637553534261,
     "user": {
      "displayName": "딥러닝호형",
      "photoUrl": "https://lh3.googleusercontent.com/a-/AOh14GhhDjkGnBZ0JW1k2J6y2lNP9dJeVbQWPuZEpfUc=s64",
      "userId": "11263585794403583722"
     },
     "user_tz": -60
    },
    "id": "QK-3CHROyCpA",
    "outputId": "88e51526-eae3-4993-d8e4-9d60bf31851f"
   },
   "outputs": [
    {
     "name": "stdout",
     "output_type": "stream",
     "text": [
      "torch.Size([200, 5, 4]) torch.Size([200, 1])\n",
      "torch.Size([226, 5, 4]) torch.Size([226, 1])\n"
     ]
    }
   ],
   "source": [
    "split = 200\n",
    "sequence_length = 5\n",
    "\n",
    "x_seq, y_seq = seq_data(X, y, sequence_length)\n",
    "x_train_seq = x_seq[:split]\n",
    "y_train_seq = y_seq[:split]\n",
    "x_test_seq = x_seq[split:]\n",
    "y_test_seq = y_seq[split:]\n",
    "print(x_train_seq.size(), y_train_seq.size())\n",
    "print(x_test_seq.size(), y_test_seq.size())"
   ]
  },
  {
   "cell_type": "code",
   "execution_count": 63,
   "metadata": {
    "executionInfo": {
     "elapsed": 11,
     "status": "ok",
     "timestamp": 1637553534262,
     "user": {
      "displayName": "딥러닝호형",
      "photoUrl": "https://lh3.googleusercontent.com/a-/AOh14GhhDjkGnBZ0JW1k2J6y2lNP9dJeVbQWPuZEpfUc=s64",
      "userId": "11263585794403583722"
     },
     "user_tz": -60
    },
    "id": "MkcHj_r9yCpB"
   },
   "outputs": [],
   "source": [
    "train = torch.utils.data.TensorDataset(x_train_seq, y_train_seq)\n",
    "test = torch.utils.data.TensorDataset(x_test_seq, y_test_seq)\n",
    "\n",
    "batch_size = 20\n",
    "train_loader = torch.utils.data.DataLoader(dataset=train, batch_size=batch_size, shuffle=True)\n",
    "test_loader = torch.utils.data.DataLoader(dataset=test, batch_size=batch_size, shuffle=False)"
   ]
  },
  {
   "cell_type": "code",
   "execution_count": 64,
   "metadata": {
    "executionInfo": {
     "elapsed": 9,
     "status": "ok",
     "timestamp": 1637553534263,
     "user": {
      "displayName": "딥러닝호형",
      "photoUrl": "https://lh3.googleusercontent.com/a-/AOh14GhhDjkGnBZ0JW1k2J6y2lNP9dJeVbQWPuZEpfUc=s64",
      "userId": "11263585794403583722"
     },
     "user_tz": -60
    },
    "id": "k8yzJTX-yCpC"
   },
   "outputs": [],
   "source": [
    "# RNN\n",
    "input_size = x_seq.size(2)\n",
    "num_layers = 2\n",
    "hidden_size = 8"
   ]
  },
  {
   "cell_type": "code",
   "execution_count": 65,
   "metadata": {
    "executionInfo": {
     "elapsed": 8,
     "status": "ok",
     "timestamp": 1637553534263,
     "user": {
      "displayName": "딥러닝호형",
      "photoUrl": "https://lh3.googleusercontent.com/a-/AOh14GhhDjkGnBZ0JW1k2J6y2lNP9dJeVbQWPuZEpfUc=s64",
      "userId": "11263585794403583722"
     },
     "user_tz": -60
    },
    "id": "RYNT-xYDyCpC"
   },
   "outputs": [],
   "source": [
    "class VanillaRNN(nn.Module):\n",
    "    \n",
    "    def __init__(self, input_size, hidden_size, sequence_length, num_layers, device):\n",
    "        super(VanillaRNN, self).__init__()\n",
    "        self.device =device\n",
    "        self.hidden_size = hidden_size\n",
    "        self.num_layers = num_layers\n",
    "        self.rnn = nn.RNN(input_size, hidden_size, num_layers, batch_first=True)\n",
    "        self.fc = nn.Sequential(nn.Linear(hidden_size*sequence_length, 1), nn.Sigmoid())\n",
    "        \n",
    "    def forward(self, x):\n",
    "        h0 = torch.zeros(self.num_layers, x.size()[0], self.hidden_size).to(self.device) # 초기 hidden state 설정\n",
    "        out, _ = self.rnn(x, h0) # out: RNN의 마지막 레이어로 부터 나온 output feature 반환, hn: hidden state 반환\n",
    "        out = out.reshape(out.shape[0], -1) # many to many 전략\n",
    "        out = self.fc(out)\n",
    "        return out"
   ]
  },
  {
   "cell_type": "code",
   "execution_count": 66,
   "metadata": {
    "executionInfo": {
     "elapsed": 8,
     "status": "ok",
     "timestamp": 1637553534264,
     "user": {
      "displayName": "딥러닝호형",
      "photoUrl": "https://lh3.googleusercontent.com/a-/AOh14GhhDjkGnBZ0JW1k2J6y2lNP9dJeVbQWPuZEpfUc=s64",
      "userId": "11263585794403583722"
     },
     "user_tz": -60
    },
    "id": "QEs9nK2kyCpD"
   },
   "outputs": [],
   "source": [
    "model = VanillaRNN(input_size=input_size, \n",
    "                   hidden_size=hidden_size, \n",
    "                   sequence_length=sequence_length, \n",
    "                   num_layers=num_layers, \n",
    "                   device=device).to(device)"
   ]
  },
  {
   "cell_type": "code",
   "execution_count": 67,
   "metadata": {
    "executionInfo": {
     "elapsed": 5,
     "status": "ok",
     "timestamp": 1637553534592,
     "user": {
      "displayName": "딥러닝호형",
      "photoUrl": "https://lh3.googleusercontent.com/a-/AOh14GhhDjkGnBZ0JW1k2J6y2lNP9dJeVbQWPuZEpfUc=s64",
      "userId": "11263585794403583722"
     },
     "user_tz": -60
    },
    "id": "qkQULMR6yCpE"
   },
   "outputs": [],
   "source": [
    "criterion = nn.MSELoss()\n",
    "num_epochs = 301\n",
    "optimizer = optim.Adam(model.parameters(), lr=1e-3)"
   ]
  },
  {
   "cell_type": "code",
   "execution_count": 68,
   "metadata": {
    "colab": {
     "base_uri": "https://localhost:8080/"
    },
    "executionInfo": {
     "elapsed": 11429,
     "status": "ok",
     "timestamp": 1637553546017,
     "user": {
      "displayName": "딥러닝호형",
      "photoUrl": "https://lh3.googleusercontent.com/a-/AOh14GhhDjkGnBZ0JW1k2J6y2lNP9dJeVbQWPuZEpfUc=s64",
      "userId": "11263585794403583722"
     },
     "user_tz": -60
    },
    "id": "lM17zpVHyCpF",
    "outputId": "5d75f058-dca4-4274-f250-ecb3f759edd4"
   },
   "outputs": [
    {
     "name": "stdout",
     "output_type": "stream",
     "text": [
      "[epoch: 0] loss: 0.0170\n",
      "[epoch: 100] loss: 0.0008\n",
      "[epoch: 200] loss: 0.0006\n",
      "[epoch: 300] loss: 0.0005\n"
     ]
    }
   ],
   "source": [
    "loss_graph = []\n",
    "n = len(train_loader)\n",
    "\n",
    "for epoch in range(num_epochs):\n",
    "    running_loss = 0.0\n",
    "    \n",
    "    for data in train_loader:\n",
    "        \n",
    "        seq, target = data # 배치 데이터 \n",
    "        out = model(seq)\n",
    "        loss = criterion(out, target)\n",
    "        \n",
    "        optimizer.zero_grad()\n",
    "        loss.backward()\n",
    "        optimizer.step()\n",
    "        running_loss += loss.item()\n",
    "    \n",
    "    loss_graph.append(running_loss/n)\n",
    "    if epoch % 100 == 0:\n",
    "        print('[epoch: %d] loss: %.4f' %(epoch, running_loss/n))"
   ]
  },
  {
   "cell_type": "code",
   "execution_count": 69,
   "metadata": {
    "colab": {
     "base_uri": "https://localhost:8080/",
     "height": 590
    },
    "executionInfo": {
     "elapsed": 392,
     "status": "ok",
     "timestamp": 1637553546405,
     "user": {
      "displayName": "딥러닝호형",
      "photoUrl": "https://lh3.googleusercontent.com/a-/AOh14GhhDjkGnBZ0JW1k2J6y2lNP9dJeVbQWPuZEpfUc=s64",
      "userId": "11263585794403583722"
     },
     "user_tz": -60
    },
    "id": "OPHUw0O-yCpF",
    "outputId": "3510baa6-4f97-49be-8738-62cde3143084"
   },
   "outputs": [
    {
     "data": {
      "image/png": "[encoded data removed]",
      "text/plain": [
       "<Figure size 1440x720 with 1 Axes>"
      ]
     },
     "metadata": {
      "needs_background": "light"
     },
     "output_type": "display_data"
    }
   ],
   "source": [
    "plt.figure(figsize=(20,10))\n",
    "plt.plot(loss_graph)\n",
    "plt.show() "
   ]
  },
  {
   "cell_type": "code",
   "execution_count": 72,
   "metadata": {
    "colab": {
     "base_uri": "https://localhost:8080/",
     "height": 592
    },
    "executionInfo": {
     "elapsed": 879,
     "status": "ok",
     "timestamp": 1637553557537,
     "user": {
      "displayName": "딥러닝호형",
      "photoUrl": "https://lh3.googleusercontent.com/a-/AOh14GhhDjkGnBZ0JW1k2J6y2lNP9dJeVbQWPuZEpfUc=s64",
      "userId": "11263585794403583722"
     },
     "user_tz": -60
    },
    "id": "-7CIu2I10F3r",
    "outputId": "63e92072-6f53-4c86-8335-b9eaa3a07061",
    "scrolled": true
   },
   "outputs": [
    {
     "data": {
      "image/png": "[encoded data removed]",
      "text/plain": [
       "<Figure size 1440x720 with 1 Axes>"
      ]
     },
     "metadata": {
      "needs_background": "light"
     },
     "output_type": "display_data"
    },
    {
     "name": "stdout",
     "output_type": "stream",
     "text": [
      "Test MSE: 0.002687\n"
     ]
    }
   ],
   "source": [
    "concatdata = torch.utils.data.ConcatDataset([train, test])\n",
    "data_loader = torch.utils.data.DataLoader(dataset=concatdata, batch_size=100, shuffle=False)\n",
    "\n",
    "with torch.no_grad():\n",
    "    pred = []\n",
    "    model.eval()\n",
    "    for data in data_loader:\n",
    "        seq, target = data\n",
    "        out = model(seq)\n",
    "        pred += out.cpu().tolist()\n",
    "\n",
    "plt.figure(figsize=(20,10))\n",
    "plt.plot(np.ones(100)*len(train),np.linspace(0,1,100),'--', linewidth=0.6)\n",
    "plt.plot(df['Close'][sequence_length:].values,'--')\n",
    "plt.plot(pred,'b', linewidth=0.6)\n",
    "plt.legend(['train boundary','actual','prediction'])\n",
    "plt.show() \n",
    "\n",
    "error = mean_squared_error(df['Close'][sequence_length:],pred)\n",
    "print('Test MSE: %f' %error)"
   ]
  },
  {
   "cell_type": "code",
   "execution_count": null,
   "metadata": {},
   "outputs": [],
   "source": []
  }
 ],
 "metadata": {
  "accelerator": "GPU",
  "colab": {
   "collapsed_sections": [],
   "name": "7.1 Vanilla RNN.ipynb",
   "provenance": []
  },
  "kernelspec": {
   "display_name": "Python 3 (ipykernel)",
   "language": "python",
   "name": "python3"
  },
  "language_info": {
   "codemirror_mode": {
    "name": "ipython",
    "version": 3
   },
   "file_extension": ".py",
   "mimetype": "text/x-python",
   "name": "python",
   "nbconvert_exporter": "python",
   "pygments_lexer": "ipython3",
   "version": "3.7.13"
  }
 },
 "nbformat": 4,
 "nbformat_minor": 1
}
