{
 "cells": [
  {
   "cell_type": "code",
   "execution_count": 22,
   "id": "7d0c63e6",
   "metadata": {},
   "outputs": [],
   "source": [
    "#!pip install seaborn\n",
    "import tensorflow as tf \n",
    "import numpy as np \n",
    "import matplotlib.pyplot as plt \n",
    "import pandas as pd \n",
    "import seaborn as sns\n",
    "import os"
   ]
  },
  {
   "cell_type": "code",
   "execution_count": 23,
   "id": "e54e89ea",
   "metadata": {},
   "outputs": [],
   "source": [
    "kakao = pd.read_csv(\"카카오.csv\")\n",
    "kakao = kakao.set_index(keys=['Date'], inplace=False, drop=True)\n",
    "kakao = kakao.iloc[600:]"
   ]
  },
  {
   "cell_type": "code",
   "execution_count": 24,
   "id": "5fa3c18a",
   "metadata": {},
   "outputs": [
    {
     "data": {
      "text/html": [
       "<div>\n",
       "<style scoped>\n",
       "    .dataframe tbody tr th:only-of-type {\n",
       "        vertical-align: middle;\n",
       "    }\n",
       "\n",
       "    .dataframe tbody tr th {\n",
       "        vertical-align: top;\n",
       "    }\n",
       "\n",
       "    .dataframe thead th {\n",
       "        text-align: right;\n",
       "    }\n",
       "</style>\n",
       "<table border=\"1\" class=\"dataframe\">\n",
       "  <thead>\n",
       "    <tr style=\"text-align: right;\">\n",
       "      <th></th>\n",
       "      <th>High</th>\n",
       "      <th>Low</th>\n",
       "      <th>Open</th>\n",
       "      <th>Close</th>\n",
       "      <th>Volume</th>\n",
       "      <th>Adj Close</th>\n",
       "    </tr>\n",
       "    <tr>\n",
       "      <th>Date</th>\n",
       "      <th></th>\n",
       "      <th></th>\n",
       "      <th></th>\n",
       "      <th></th>\n",
       "      <th></th>\n",
       "      <th></th>\n",
       "    </tr>\n",
       "  </thead>\n",
       "  <tbody>\n",
       "    <tr>\n",
       "      <th>2019-11-08</th>\n",
       "      <td>31227.964844</td>\n",
       "      <td>30422.082031</td>\n",
       "      <td>30623.552734</td>\n",
       "      <td>30623.552734</td>\n",
       "      <td>4470991.0</td>\n",
       "      <td>30570.687500</td>\n",
       "    </tr>\n",
       "    <tr>\n",
       "      <th>2019-11-11</th>\n",
       "      <td>31227.964844</td>\n",
       "      <td>30623.552734</td>\n",
       "      <td>30825.023438</td>\n",
       "      <td>31026.494141</td>\n",
       "      <td>2530436.0</td>\n",
       "      <td>30972.933594</td>\n",
       "    </tr>\n",
       "    <tr>\n",
       "      <th>2019-11-12</th>\n",
       "      <td>31127.228516</td>\n",
       "      <td>30623.552734</td>\n",
       "      <td>31026.494141</td>\n",
       "      <td>30925.757812</td>\n",
       "      <td>1966995.0</td>\n",
       "      <td>30872.371094</td>\n",
       "    </tr>\n",
       "    <tr>\n",
       "      <th>2019-11-13</th>\n",
       "      <td>31026.494141</td>\n",
       "      <td>30422.082031</td>\n",
       "      <td>30724.287109</td>\n",
       "      <td>30925.757812</td>\n",
       "      <td>1871035.0</td>\n",
       "      <td>30872.371094</td>\n",
       "    </tr>\n",
       "    <tr>\n",
       "      <th>2019-11-14</th>\n",
       "      <td>31227.964844</td>\n",
       "      <td>30623.552734</td>\n",
       "      <td>31127.228516</td>\n",
       "      <td>31127.228516</td>\n",
       "      <td>3233293.0</td>\n",
       "      <td>31073.494141</td>\n",
       "    </tr>\n",
       "    <tr>\n",
       "      <th>...</th>\n",
       "      <td>...</td>\n",
       "      <td>...</td>\n",
       "      <td>...</td>\n",
       "      <td>...</td>\n",
       "      <td>...</td>\n",
       "      <td>...</td>\n",
       "    </tr>\n",
       "    <tr>\n",
       "      <th>2022-05-18</th>\n",
       "      <td>84000.000000</td>\n",
       "      <td>82500.000000</td>\n",
       "      <td>83700.000000</td>\n",
       "      <td>82600.000000</td>\n",
       "      <td>1208755.0</td>\n",
       "      <td>82600.000000</td>\n",
       "    </tr>\n",
       "    <tr>\n",
       "      <th>2022-05-19</th>\n",
       "      <td>81000.000000</td>\n",
       "      <td>80000.000000</td>\n",
       "      <td>80500.000000</td>\n",
       "      <td>80400.000000</td>\n",
       "      <td>1519533.0</td>\n",
       "      <td>80400.000000</td>\n",
       "    </tr>\n",
       "    <tr>\n",
       "      <th>2022-05-20</th>\n",
       "      <td>83300.000000</td>\n",
       "      <td>80400.000000</td>\n",
       "      <td>80800.000000</td>\n",
       "      <td>83000.000000</td>\n",
       "      <td>1561541.0</td>\n",
       "      <td>83000.000000</td>\n",
       "    </tr>\n",
       "    <tr>\n",
       "      <th>2022-05-23</th>\n",
       "      <td>83500.000000</td>\n",
       "      <td>82400.000000</td>\n",
       "      <td>82700.000000</td>\n",
       "      <td>82900.000000</td>\n",
       "      <td>933750.0</td>\n",
       "      <td>82900.000000</td>\n",
       "    </tr>\n",
       "    <tr>\n",
       "      <th>2022-05-24</th>\n",
       "      <td>82600.000000</td>\n",
       "      <td>80600.000000</td>\n",
       "      <td>82500.000000</td>\n",
       "      <td>80600.000000</td>\n",
       "      <td>1145236.0</td>\n",
       "      <td>80600.000000</td>\n",
       "    </tr>\n",
       "  </tbody>\n",
       "</table>\n",
       "<p>626 rows × 6 columns</p>\n",
       "</div>"
      ],
      "text/plain": [
       "                    High           Low          Open         Close     Volume  \\\n",
       "Date                                                                            \n",
       "2019-11-08  31227.964844  30422.082031  30623.552734  30623.552734  4470991.0   \n",
       "2019-11-11  31227.964844  30623.552734  30825.023438  31026.494141  2530436.0   \n",
       "2019-11-12  31127.228516  30623.552734  31026.494141  30925.757812  1966995.0   \n",
       "2019-11-13  31026.494141  30422.082031  30724.287109  30925.757812  1871035.0   \n",
       "2019-11-14  31227.964844  30623.552734  31127.228516  31127.228516  3233293.0   \n",
       "...                  ...           ...           ...           ...        ...   \n",
       "2022-05-18  84000.000000  82500.000000  83700.000000  82600.000000  1208755.0   \n",
       "2022-05-19  81000.000000  80000.000000  80500.000000  80400.000000  1519533.0   \n",
       "2022-05-20  83300.000000  80400.000000  80800.000000  83000.000000  1561541.0   \n",
       "2022-05-23  83500.000000  82400.000000  82700.000000  82900.000000   933750.0   \n",
       "2022-05-24  82600.000000  80600.000000  82500.000000  80600.000000  1145236.0   \n",
       "\n",
       "               Adj Close  \n",
       "Date                      \n",
       "2019-11-08  30570.687500  \n",
       "2019-11-11  30972.933594  \n",
       "2019-11-12  30872.371094  \n",
       "2019-11-13  30872.371094  \n",
       "2019-11-14  31073.494141  \n",
       "...                  ...  \n",
       "2022-05-18  82600.000000  \n",
       "2022-05-19  80400.000000  \n",
       "2022-05-20  83000.000000  \n",
       "2022-05-23  82900.000000  \n",
       "2022-05-24  80600.000000  \n",
       "\n",
       "[626 rows x 6 columns]"
      ]
     },
     "execution_count": 24,
     "metadata": {},
     "output_type": "execute_result"
    }
   ],
   "source": [
    "kakao"
   ]
  },
  {
   "cell_type": "code",
   "execution_count": 25,
   "id": "a2410de7",
   "metadata": {},
   "outputs": [
    {
     "data": {
      "text/plain": [
       "Text(0, 0.5, 'price')"
      ]
     },
     "execution_count": 25,
     "metadata": {},
     "output_type": "execute_result"
    },
    {
     "data": {
      "image/png": "[encoded data removed]",
      "text/plain": [
       "<Figure size 1152x648 with 1 Axes>"
      ]
     },
     "metadata": {
      "needs_background": "light"
     },
     "output_type": "display_data"
    }
   ],
   "source": [
    "plt.figure(figsize=(16, 9))   #그림 사이즈 조정\n",
    "sns.lineplot(y=kakao['Close'], x=kakao.index)  #,x,y축 설정\n",
    "plt.xlabel('time')  #x축 레이블 이름 지정\n",
    "plt.ylabel('price')  #y축 레이블 이름 지정"
   ]
  },
  {
   "cell_type": "code",
   "execution_count": 26,
   "id": "7c0a1496",
   "metadata": {},
   "outputs": [
    {
     "data": {
      "text/plain": [
       "array([[0.01114206, 0.03468635, 0.01939059, 0.02522776, 0.23836116,\n",
       "        0.02503299],\n",
       "       [0.01114206, 0.03616236, 0.02077563, 0.02803084, 0.13490469,\n",
       "        0.02783233],\n",
       "       [0.01044567, 0.03616236, 0.02216068, 0.02733006, 0.10486606,\n",
       "        0.02713249],\n",
       "       ...,\n",
       "       [0.37111357, 0.40083455, 0.3643363 , 0.38958724, 0.08325016,\n",
       "        0.38990307],\n",
       "       [0.37249616, 0.41548695, 0.37739815, 0.38889158, 0.04978085,\n",
       "        0.38920714],\n",
       "       [0.36627451, 0.40229979, 0.37602322, 0.37289151, 0.06105577,\n",
       "        0.37320081]])"
      ]
     },
     "execution_count": 26,
     "metadata": {},
     "output_type": "execute_result"
    }
   ],
   "source": [
    "from sklearn.preprocessing import MinMaxScaler\n",
    "\n",
    "scaler = MinMaxScaler()\n",
    "scale_cols = ['High', 'Low', 'Open', 'Close', 'Volume', 'Adj Close']\n",
    "#scale_cols = ['High', 'Low', 'Open', 'Close', 'Adj Close']\n",
    "scaled = scaler.fit_transform(kakao[scale_cols])\n",
    "#scaled = scaler.fit_transform(kakao['Volume'])\n",
    "scaled"
   ]
  },
  {
   "cell_type": "code",
   "execution_count": 27,
   "id": "767edf5a",
   "metadata": {},
   "outputs": [
    {
     "data": {
      "text/html": [
       "<div>\n",
       "<style scoped>\n",
       "    .dataframe tbody tr th:only-of-type {\n",
       "        vertical-align: middle;\n",
       "    }\n",
       "\n",
       "    .dataframe tbody tr th {\n",
       "        vertical-align: top;\n",
       "    }\n",
       "\n",
       "    .dataframe thead th {\n",
       "        text-align: right;\n",
       "    }\n",
       "</style>\n",
       "<table border=\"1\" class=\"dataframe\">\n",
       "  <thead>\n",
       "    <tr style=\"text-align: right;\">\n",
       "      <th></th>\n",
       "      <th>High</th>\n",
       "      <th>Low</th>\n",
       "      <th>Open</th>\n",
       "      <th>Close</th>\n",
       "      <th>Volume</th>\n",
       "      <th>Adj Close</th>\n",
       "    </tr>\n",
       "  </thead>\n",
       "  <tbody>\n",
       "    <tr>\n",
       "      <th>0</th>\n",
       "      <td>0.011142</td>\n",
       "      <td>0.034686</td>\n",
       "      <td>0.019391</td>\n",
       "      <td>0.025228</td>\n",
       "      <td>0.238361</td>\n",
       "      <td>0.025033</td>\n",
       "    </tr>\n",
       "    <tr>\n",
       "      <th>1</th>\n",
       "      <td>0.011142</td>\n",
       "      <td>0.036162</td>\n",
       "      <td>0.020776</td>\n",
       "      <td>0.028031</td>\n",
       "      <td>0.134905</td>\n",
       "      <td>0.027832</td>\n",
       "    </tr>\n",
       "    <tr>\n",
       "      <th>2</th>\n",
       "      <td>0.010446</td>\n",
       "      <td>0.036162</td>\n",
       "      <td>0.022161</td>\n",
       "      <td>0.027330</td>\n",
       "      <td>0.104866</td>\n",
       "      <td>0.027132</td>\n",
       "    </tr>\n",
       "    <tr>\n",
       "      <th>3</th>\n",
       "      <td>0.009749</td>\n",
       "      <td>0.034686</td>\n",
       "      <td>0.020083</td>\n",
       "      <td>0.027330</td>\n",
       "      <td>0.099750</td>\n",
       "      <td>0.027132</td>\n",
       "    </tr>\n",
       "    <tr>\n",
       "      <th>4</th>\n",
       "      <td>0.011142</td>\n",
       "      <td>0.036162</td>\n",
       "      <td>0.022853</td>\n",
       "      <td>0.028732</td>\n",
       "      <td>0.172376</td>\n",
       "      <td>0.028532</td>\n",
       "    </tr>\n",
       "    <tr>\n",
       "      <th>...</th>\n",
       "      <td>...</td>\n",
       "      <td>...</td>\n",
       "      <td>...</td>\n",
       "      <td>...</td>\n",
       "      <td>...</td>\n",
       "      <td>...</td>\n",
       "    </tr>\n",
       "    <tr>\n",
       "      <th>621</th>\n",
       "      <td>0.375953</td>\n",
       "      <td>0.416220</td>\n",
       "      <td>0.384273</td>\n",
       "      <td>0.386805</td>\n",
       "      <td>0.064442</td>\n",
       "      <td>0.387119</td>\n",
       "    </tr>\n",
       "    <tr>\n",
       "      <th>622</th>\n",
       "      <td>0.355214</td>\n",
       "      <td>0.397904</td>\n",
       "      <td>0.362274</td>\n",
       "      <td>0.371500</td>\n",
       "      <td>0.081011</td>\n",
       "      <td>0.371809</td>\n",
       "    </tr>\n",
       "    <tr>\n",
       "      <th>623</th>\n",
       "      <td>0.371114</td>\n",
       "      <td>0.400835</td>\n",
       "      <td>0.364336</td>\n",
       "      <td>0.389587</td>\n",
       "      <td>0.083250</td>\n",
       "      <td>0.389903</td>\n",
       "    </tr>\n",
       "    <tr>\n",
       "      <th>624</th>\n",
       "      <td>0.372496</td>\n",
       "      <td>0.415487</td>\n",
       "      <td>0.377398</td>\n",
       "      <td>0.388892</td>\n",
       "      <td>0.049781</td>\n",
       "      <td>0.389207</td>\n",
       "    </tr>\n",
       "    <tr>\n",
       "      <th>625</th>\n",
       "      <td>0.366275</td>\n",
       "      <td>0.402300</td>\n",
       "      <td>0.376023</td>\n",
       "      <td>0.372892</td>\n",
       "      <td>0.061056</td>\n",
       "      <td>0.373201</td>\n",
       "    </tr>\n",
       "  </tbody>\n",
       "</table>\n",
       "<p>626 rows × 6 columns</p>\n",
       "</div>"
      ],
      "text/plain": [
       "         High       Low      Open     Close    Volume  Adj Close\n",
       "0    0.011142  0.034686  0.019391  0.025228  0.238361   0.025033\n",
       "1    0.011142  0.036162  0.020776  0.028031  0.134905   0.027832\n",
       "2    0.010446  0.036162  0.022161  0.027330  0.104866   0.027132\n",
       "3    0.009749  0.034686  0.020083  0.027330  0.099750   0.027132\n",
       "4    0.011142  0.036162  0.022853  0.028732  0.172376   0.028532\n",
       "..        ...       ...       ...       ...       ...        ...\n",
       "621  0.375953  0.416220  0.384273  0.386805  0.064442   0.387119\n",
       "622  0.355214  0.397904  0.362274  0.371500  0.081011   0.371809\n",
       "623  0.371114  0.400835  0.364336  0.389587  0.083250   0.389903\n",
       "624  0.372496  0.415487  0.377398  0.388892  0.049781   0.389207\n",
       "625  0.366275  0.402300  0.376023  0.372892  0.061056   0.373201\n",
       "\n",
       "[626 rows x 6 columns]"
      ]
     },
     "execution_count": 27,
     "metadata": {},
     "output_type": "execute_result"
    }
   ],
   "source": [
    "kakao = pd.DataFrame(scaled, columns=scale_cols)\n",
    "kakao"
   ]
  },
  {
   "cell_type": "code",
   "execution_count": 28,
   "id": "7b8a8f69",
   "metadata": {},
   "outputs": [
    {
     "name": "stderr",
     "output_type": "stream",
     "text": [
      "C:\\Users\\Mgyu\\AppData\\Local\\Temp\\ipykernel_23104\\3208372521.py:2: FutureWarning: In a future version of pandas all arguments of DataFrame.drop except for the argument 'labels' will be keyword-only.\n",
      "  x_train, x_test, y_train, y_test = train_test_split(kakao.drop('Close', 1), kakao['Close'], test_size=0.3, shuffle=False)\n"
     ]
    }
   ],
   "source": [
    "from sklearn.model_selection import train_test_split\n",
    "x_train, x_test, y_train, y_test = train_test_split(kakao.drop('Close', 1), kakao['Close'], test_size=0.3, shuffle=False)"
   ]
  },
  {
   "cell_type": "code",
   "execution_count": 29,
   "id": "9dca7940",
   "metadata": {},
   "outputs": [
    {
     "data": {
      "text/plain": [
       "((438, 5), (438,), (188, 5), (188,))"
      ]
     },
     "execution_count": 29,
     "metadata": {},
     "output_type": "execute_result"
    }
   ],
   "source": [
    "x_train.shape, y_train.shape, x_test.shape, y_test.shape"
   ]
  },
  {
   "cell_type": "code",
   "execution_count": 30,
   "id": "26863ac5",
   "metadata": {},
   "outputs": [],
   "source": [
    "def windowed_dataset(series, window_size, batch_size, shuffle):\n",
    "    series = tf.expand_dims(series, axis=-1)\n",
    "    ds = tf.data.Dataset.from_tensor_slices(series)\n",
    "    ds = ds.window(window_size + 1, shift=1, drop_remainder=True)\n",
    "    ds = ds.flat_map(lambda w: w.batch(window_size + 1))\n",
    "    if shuffle:\n",
    "        ds = ds.shuffle(1000)\n",
    "    ds = ds.map(lambda w: (w[:-1], w[-1]))\n",
    "    return ds.batch(batch_size).prefetch(1)"
   ]
  },
  {
   "cell_type": "code",
   "execution_count": 31,
   "id": "da421d7a",
   "metadata": {},
   "outputs": [],
   "source": [
    "WINDOW_SIZE=30\n",
    "BATCH_SIZE=32"
   ]
  },
  {
   "cell_type": "code",
   "execution_count": 32,
   "id": "6b44d135",
   "metadata": {},
   "outputs": [],
   "source": [
    "train_data = windowed_dataset(y_train, WINDOW_SIZE, BATCH_SIZE, True)\n",
    "test_data = windowed_dataset(y_test, WINDOW_SIZE, BATCH_SIZE, False)"
   ]
  },
  {
   "cell_type": "code",
   "execution_count": 33,
   "id": "2fae46bd",
   "metadata": {},
   "outputs": [
    {
     "name": "stdout",
     "output_type": "stream",
     "text": [
      "데이터셋(X) 구성(batch_size, window_size, feature갯수): (32, 30, 1)\n",
      "데이터셋(Y) 구성(batch_size, window_size, feature갯수): (32, 1)\n"
     ]
    }
   ],
   "source": [
    "for data in train_data.take(1):\n",
    "    print(f'데이터셋(X) 구성(batch_size, window_size, feature갯수): {data[0].shape}')\n",
    "    print(f'데이터셋(Y) 구성(batch_size, window_size, feature갯수): {data[1].shape}')"
   ]
  },
  {
   "cell_type": "code",
   "execution_count": 34,
   "id": "2c5f95ca",
   "metadata": {},
   "outputs": [],
   "source": [
    "from tensorflow.keras.models import Sequential\n",
    "from tensorflow.keras.layers import Dense, SimpleRNN, Conv1D, Lambda\n",
    "from tensorflow.keras.losses import Huber\n",
    "from tensorflow.keras.optimizers import Adam\n",
    "from tensorflow.keras.callbacks import EarlyStopping, ModelCheckpoint"
   ]
  },
  {
   "cell_type": "code",
   "execution_count": 35,
   "id": "995beb40",
   "metadata": {},
   "outputs": [],
   "source": [
    "model = Sequential([\n",
    "    # 1차원 feature map 생성\n",
    "    Conv1D(filters=32, kernel_size=5,\n",
    "           padding=\"causal\",\n",
    "           #활성화함수를 relu로 정의\n",
    "           activation=\"relu\",\n",
    "           input_shape=[WINDOW_SIZE, 1]),\n",
    "    # SimpleRNN\n",
    "    SimpleRNN(16, activation='tanh'),    ##16개의 SimpleRNN 사용, 활성화함수는 역tan함수\n",
    "    Dense(16, activation=\"relu\"),   ##16개의 뉴럴넷 사용, 활성화함수는 relu함수\n",
    "    Dense(1),  #마지막 값은 1개가 도출되어야 하므로 dense(1)을 추가\n",
    "])"
   ]
  },
  {
   "cell_type": "code",
   "execution_count": 36,
   "id": "16674ac8",
   "metadata": {},
   "outputs": [],
   "source": [
    "loss = Huber()\n",
    "optimizer = Adam(0.005) ##3compile 시 optimizer는 adam으로 사용\n",
    "model.compile(loss=Huber(), optimizer=optimizer, metrics=['mse'])"
   ]
  },
  {
   "cell_type": "code",
   "execution_count": 37,
   "id": "bf618039",
   "metadata": {},
   "outputs": [],
   "source": [
    "earlystopping = EarlyStopping(monitor='val_loss', patience=10)\n",
    "# val_loss 기준 체크포인터도 생성합니다.\n",
    "filename = os.path.join('tmp', 'ckeckpointer.ckpt')\n",
    "checkpoint = ModelCheckpoint(filename, \n",
    "                             save_weights_only=True, \n",
    "                             save_best_only=True, \n",
    "                             monitor='val_loss', \n",
    "                             verbose=1)"
   ]
  },
  {
   "cell_type": "code",
   "execution_count": 38,
   "id": "274b77ac",
   "metadata": {},
   "outputs": [
    {
     "name": "stdout",
     "output_type": "stream",
     "text": [
      "Epoch 1/50\n",
      "      9/Unknown - 2s 6ms/step - loss: 0.0351 - mse: 0.0709\n",
      "Epoch 1: val_loss improved from inf to 0.00859, saving model to tmp\\ckeckpointer.ckpt\n",
      "13/13 [==============================] - 2s 47ms/step - loss: 0.0263 - mse: 0.0531 - val_loss: 0.0086 - val_mse: 0.0172\n",
      "Epoch 2/50\n",
      "13/13 [==============================] - ETA: 0s - loss: 0.0023 - mse: 0.0046\n",
      "Epoch 2: val_loss improved from 0.00859 to 0.00221, saving model to tmp\\ckeckpointer.ckpt\n",
      "13/13 [==============================] - 0s 22ms/step - loss: 0.0023 - mse: 0.0046 - val_loss: 0.0022 - val_mse: 0.0044\n",
      "Epoch 3/50\n",
      "11/13 [========================>.....] - ETA: 0s - loss: 0.0013 - mse: 0.0025\n",
      "Epoch 3: val_loss improved from 0.00221 to 0.00061, saving model to tmp\\ckeckpointer.ckpt\n",
      "13/13 [==============================] - 0s 26ms/step - loss: 0.0012 - mse: 0.0024 - val_loss: 6.1034e-04 - val_mse: 0.0012\n",
      "Epoch 4/50\n",
      "13/13 [==============================] - ETA: 0s - loss: 7.8348e-04 - mse: 0.0016\n",
      "Epoch 4: val_loss did not improve from 0.00061\n",
      "13/13 [==============================] - 0s 15ms/step - loss: 7.8348e-04 - mse: 0.0016 - val_loss: 0.0011 - val_mse: 0.0023\n",
      "Epoch 5/50\n",
      " 9/13 [===================>..........] - ETA: 0s - loss: 6.1036e-04 - mse: 0.0012    \n",
      "Epoch 5: val_loss improved from 0.00061 to 0.00054, saving model to tmp\\ckeckpointer.ckpt\n",
      "13/13 [==============================] - 0s 14ms/step - loss: 5.9755e-04 - mse: 0.0012 - val_loss: 5.3754e-04 - val_mse: 0.0011\n",
      "Epoch 6/50\n",
      "10/13 [======================>.......] - ETA: 0s - loss: 6.1925e-04 - mse: 0.0012    \n",
      "Epoch 6: val_loss did not improve from 0.00054\n",
      "13/13 [==============================] - 0s 10ms/step - loss: 5.7392e-04 - mse: 0.0011 - val_loss: 0.0014 - val_mse: 0.0027\n",
      "Epoch 7/50\n",
      " 9/13 [===================>..........] - ETA: 0s - loss: 6.7554e-04 - mse: 0.0014\n",
      "Epoch 7: val_loss improved from 0.00054 to 0.00048, saving model to tmp\\ckeckpointer.ckpt\n",
      "13/13 [==============================] - 0s 14ms/step - loss: 6.6173e-04 - mse: 0.0013 - val_loss: 4.7666e-04 - val_mse: 9.5332e-04\n",
      "Epoch 8/50\n",
      " 8/13 [=================>............] - ETA: 0s - loss: 5.1436e-04 - mse: 0.0010\n",
      "Epoch 8: val_loss did not improve from 0.00048\n",
      "13/13 [==============================] - 0s 12ms/step - loss: 5.5089e-04 - mse: 0.0011 - val_loss: 6.0631e-04 - val_mse: 0.0012\n",
      "Epoch 9/50\n",
      " 9/13 [===================>..........] - ETA: 0s - loss: 3.4205e-04 - mse: 6.8410e-04\n",
      "Epoch 9: val_loss did not improve from 0.00048\n",
      "13/13 [==============================] - 0s 11ms/step - loss: 4.4196e-04 - mse: 8.8393e-04 - val_loss: 0.0011 - val_mse: 0.0023\n",
      "Epoch 10/50\n",
      "10/13 [======================>.......] - ETA: 0s - loss: 4.0794e-04 - mse: 8.1589e-04\n",
      "Epoch 10: val_loss did not improve from 0.00048\n",
      "13/13 [==============================] - 0s 10ms/step - loss: 3.7696e-04 - mse: 7.5392e-04 - val_loss: 4.9784e-04 - val_mse: 9.9568e-04\n",
      "Epoch 11/50\n",
      "10/13 [======================>.......] - ETA: 0s - loss: 3.9217e-04 - mse: 7.8435e-04\n",
      "Epoch 11: val_loss did not improve from 0.00048\n",
      "13/13 [==============================] - 0s 11ms/step - loss: 3.5837e-04 - mse: 7.1675e-04 - val_loss: 7.1609e-04 - val_mse: 0.0014\n",
      "Epoch 12/50\n",
      "10/13 [======================>.......] - ETA: 0s - loss: 4.4716e-04 - mse: 8.9433e-04\n",
      "Epoch 12: val_loss did not improve from 0.00048\n",
      "13/13 [==============================] - 0s 11ms/step - loss: 4.3337e-04 - mse: 8.6675e-04 - val_loss: 0.0011 - val_mse: 0.0022\n",
      "Epoch 13/50\n",
      "10/13 [======================>.......] - ETA: 0s - loss: 3.4612e-04 - mse: 6.9224e-04\n",
      "Epoch 13: val_loss did not improve from 0.00048\n",
      "13/13 [==============================] - 0s 11ms/step - loss: 3.6683e-04 - mse: 7.3366e-04 - val_loss: 6.0758e-04 - val_mse: 0.0012\n",
      "Epoch 14/50\n",
      "10/13 [======================>.......] - ETA: 0s - loss: 3.2747e-04 - mse: 6.5494e-04\n",
      "Epoch 14: val_loss improved from 0.00048 to 0.00044, saving model to tmp\\ckeckpointer.ckpt\n",
      "13/13 [==============================] - 0s 14ms/step - loss: 3.1876e-04 - mse: 6.3752e-04 - val_loss: 4.3703e-04 - val_mse: 8.7405e-04\n",
      "Epoch 15/50\n",
      " 9/13 [===================>..........] - ETA: 0s - loss: 3.3582e-04 - mse: 6.7165e-04\n",
      "Epoch 15: val_loss did not improve from 0.00044\n",
      "13/13 [==============================] - 0s 11ms/step - loss: 3.4033e-04 - mse: 6.8065e-04 - val_loss: 6.6638e-04 - val_mse: 0.0013\n",
      "Epoch 16/50\n",
      "10/13 [======================>.......] - ETA: 0s - loss: 3.2013e-04 - mse: 6.4027e-04\n",
      "Epoch 16: val_loss did not improve from 0.00044\n",
      "13/13 [==============================] - 0s 11ms/step - loss: 3.1466e-04 - mse: 6.2933e-04 - val_loss: 5.5657e-04 - val_mse: 0.0011\n",
      "Epoch 17/50\n",
      "10/13 [======================>.......] - ETA: 0s - loss: 3.1573e-04 - mse: 6.3147e-04\n",
      "Epoch 17: val_loss improved from 0.00044 to 0.00031, saving model to tmp\\ckeckpointer.ckpt\n",
      "13/13 [==============================] - 0s 14ms/step - loss: 3.2985e-04 - mse: 6.5971e-04 - val_loss: 3.1086e-04 - val_mse: 6.2171e-04\n",
      "Epoch 18/50\n",
      "10/13 [======================>.......] - ETA: 0s - loss: 2.8700e-04 - mse: 5.7400e-04\n",
      "Epoch 18: val_loss did not improve from 0.00031\n",
      "13/13 [==============================] - 0s 11ms/step - loss: 2.6919e-04 - mse: 5.3838e-04 - val_loss: 3.7201e-04 - val_mse: 7.4402e-04\n",
      "Epoch 19/50\n",
      "10/13 [======================>.......] - ETA: 0s - loss: 2.6101e-04 - mse: 5.2201e-04\n",
      "Epoch 19: val_loss did not improve from 0.00031\n",
      "13/13 [==============================] - 0s 12ms/step - loss: 2.8013e-04 - mse: 5.6027e-04 - val_loss: 4.5641e-04 - val_mse: 9.1283e-04\n",
      "Epoch 20/50\n",
      "10/13 [======================>.......] - ETA: 0s - loss: 2.5826e-04 - mse: 5.1652e-04\n",
      "Epoch 20: val_loss did not improve from 0.00031\n",
      "13/13 [==============================] - 0s 11ms/step - loss: 3.0322e-04 - mse: 6.0644e-04 - val_loss: 5.8859e-04 - val_mse: 0.0012\n",
      "Epoch 21/50\n",
      " 9/13 [===================>..........] - ETA: 0s - loss: 2.3942e-04 - mse: 4.7883e-04\n",
      "Epoch 21: val_loss did not improve from 0.00031\n",
      "13/13 [==============================] - 0s 11ms/step - loss: 2.6210e-04 - mse: 5.2420e-04 - val_loss: 4.8661e-04 - val_mse: 9.7322e-04\n",
      "Epoch 22/50\n",
      "10/13 [======================>.......] - ETA: 0s - loss: 2.9787e-04 - mse: 5.9573e-04\n",
      "Epoch 22: val_loss improved from 0.00031 to 0.00029, saving model to tmp\\ckeckpointer.ckpt\n",
      "13/13 [==============================] - 0s 16ms/step - loss: 2.7941e-04 - mse: 5.5882e-04 - val_loss: 2.8526e-04 - val_mse: 5.7051e-04\n",
      "Epoch 23/50\n",
      "12/13 [==========================>...] - ETA: 0s - loss: 3.8249e-04 - mse: 7.6499e-04\n",
      "Epoch 23: val_loss did not improve from 0.00029\n",
      "13/13 [==============================] - 0s 17ms/step - loss: 3.7989e-04 - mse: 7.5978e-04 - val_loss: 3.7508e-04 - val_mse: 7.5016e-04\n",
      "Epoch 24/50\n",
      "13/13 [==============================] - ETA: 0s - loss: 2.6612e-04 - mse: 5.3225e-04\n",
      "Epoch 24: val_loss did not improve from 0.00029\n",
      "13/13 [==============================] - 0s 18ms/step - loss: 2.6612e-04 - mse: 5.3225e-04 - val_loss: 3.9550e-04 - val_mse: 7.9099e-04\n",
      "Epoch 25/50\n",
      "12/13 [==========================>...] - ETA: 0s - loss: 2.8729e-04 - mse: 5.7458e-04\n",
      "Epoch 25: val_loss improved from 0.00029 to 0.00028, saving model to tmp\\ckeckpointer.ckpt\n",
      "13/13 [==============================] - 0s 23ms/step - loss: 2.7602e-04 - mse: 5.5205e-04 - val_loss: 2.7519e-04 - val_mse: 5.5037e-04\n",
      "Epoch 26/50\n",
      " 8/13 [=================>............] - ETA: 0s - loss: 3.1340e-04 - mse: 6.2680e-04\n",
      "Epoch 26: val_loss did not improve from 0.00028\n",
      "13/13 [==============================] - 0s 13ms/step - loss: 2.9373e-04 - mse: 5.8746e-04 - val_loss: 4.0388e-04 - val_mse: 8.0776e-04\n",
      "Epoch 27/50\n",
      " 9/13 [===================>..........] - ETA: 0s - loss: 2.4920e-04 - mse: 4.9841e-04\n",
      "Epoch 27: val_loss did not improve from 0.00028\n",
      "13/13 [==============================] - 0s 13ms/step - loss: 2.3584e-04 - mse: 4.7168e-04 - val_loss: 3.0662e-04 - val_mse: 6.1323e-04\n",
      "Epoch 28/50\n",
      " 9/13 [===================>..........] - ETA: 0s - loss: 2.6191e-04 - mse: 5.2381e-04\n",
      "Epoch 28: val_loss improved from 0.00028 to 0.00024, saving model to tmp\\ckeckpointer.ckpt\n",
      "13/13 [==============================] - 0s 14ms/step - loss: 2.5433e-04 - mse: 5.0866e-04 - val_loss: 2.3741e-04 - val_mse: 4.7483e-04\n",
      "Epoch 29/50\n"
     ]
    },
    {
     "name": "stdout",
     "output_type": "stream",
     "text": [
      " 9/13 [===================>..........] - ETA: 0s - loss: 2.6769e-04 - mse: 5.3538e-04\n",
      "Epoch 29: val_loss did not improve from 0.00024\n",
      "13/13 [==============================] - 0s 11ms/step - loss: 2.7687e-04 - mse: 5.5373e-04 - val_loss: 2.3808e-04 - val_mse: 4.7617e-04\n",
      "Epoch 30/50\n",
      "10/13 [======================>.......] - ETA: 0s - loss: 2.2296e-04 - mse: 4.4593e-04\n",
      "Epoch 30: val_loss did not improve from 0.00024\n",
      "13/13 [==============================] - 0s 11ms/step - loss: 2.1635e-04 - mse: 4.3271e-04 - val_loss: 2.4653e-04 - val_mse: 4.9306e-04\n",
      "Epoch 31/50\n",
      "10/13 [======================>.......] - ETA: 0s - loss: 2.2757e-04 - mse: 4.5515e-04\n",
      "Epoch 31: val_loss did not improve from 0.00024\n",
      "13/13 [==============================] - 0s 11ms/step - loss: 2.2924e-04 - mse: 4.5848e-04 - val_loss: 2.7469e-04 - val_mse: 5.4938e-04\n",
      "Epoch 32/50\n",
      "10/13 [======================>.......] - ETA: 0s - loss: 2.0141e-04 - mse: 4.0283e-04\n",
      "Epoch 32: val_loss did not improve from 0.00024\n",
      "13/13 [==============================] - 0s 11ms/step - loss: 2.1277e-04 - mse: 4.2554e-04 - val_loss: 2.7055e-04 - val_mse: 5.4111e-04\n",
      "Epoch 33/50\n",
      "10/13 [======================>.......] - ETA: 0s - loss: 1.8719e-04 - mse: 3.7438e-04\n",
      "Epoch 33: val_loss improved from 0.00024 to 0.00023, saving model to tmp\\ckeckpointer.ckpt\n",
      "13/13 [==============================] - 0s 13ms/step - loss: 1.9208e-04 - mse: 3.8415e-04 - val_loss: 2.2932e-04 - val_mse: 4.5864e-04\n",
      "Epoch 34/50\n",
      "10/13 [======================>.......] - ETA: 0s - loss: 2.3591e-04 - mse: 4.7182e-04\n",
      "Epoch 34: val_loss did not improve from 0.00023\n",
      "13/13 [==============================] - 0s 10ms/step - loss: 2.3032e-04 - mse: 4.6064e-04 - val_loss: 2.3248e-04 - val_mse: 4.6496e-04\n",
      "Epoch 35/50\n",
      "10/13 [======================>.......] - ETA: 0s - loss: 2.5544e-04 - mse: 5.1087e-04\n",
      "Epoch 35: val_loss improved from 0.00023 to 0.00021, saving model to tmp\\ckeckpointer.ckpt\n",
      "13/13 [==============================] - 0s 13ms/step - loss: 2.5263e-04 - mse: 5.0525e-04 - val_loss: 2.1413e-04 - val_mse: 4.2827e-04\n",
      "Epoch 36/50\n",
      "10/13 [======================>.......] - ETA: 0s - loss: 2.4416e-04 - mse: 4.8832e-04\n",
      "Epoch 36: val_loss improved from 0.00021 to 0.00021, saving model to tmp\\ckeckpointer.ckpt\n",
      "13/13 [==============================] - 0s 14ms/step - loss: 2.5954e-04 - mse: 5.1909e-04 - val_loss: 2.1209e-04 - val_mse: 4.2417e-04\n",
      "Epoch 37/50\n",
      "10/13 [======================>.......] - ETA: 0s - loss: 1.8912e-04 - mse: 3.7824e-04\n",
      "Epoch 37: val_loss did not improve from 0.00021\n",
      "13/13 [==============================] - 0s 10ms/step - loss: 1.8978e-04 - mse: 3.7955e-04 - val_loss: 2.1636e-04 - val_mse: 4.3271e-04\n",
      "Epoch 38/50\n",
      " 9/13 [===================>..........] - ETA: 0s - loss: 1.5853e-04 - mse: 3.1705e-04\n",
      "Epoch 38: val_loss did not improve from 0.00021\n",
      "13/13 [==============================] - 0s 11ms/step - loss: 1.9354e-04 - mse: 3.8707e-04 - val_loss: 4.7938e-04 - val_mse: 9.5876e-04\n",
      "Epoch 39/50\n",
      "10/13 [======================>.......] - ETA: 0s - loss: 2.8501e-04 - mse: 5.7001e-04\n",
      "Epoch 39: val_loss did not improve from 0.00021\n",
      "13/13 [==============================] - 0s 11ms/step - loss: 2.9687e-04 - mse: 5.9374e-04 - val_loss: 2.1312e-04 - val_mse: 4.2624e-04\n",
      "Epoch 40/50\n",
      "10/13 [======================>.......] - ETA: 0s - loss: 2.0579e-04 - mse: 4.1159e-04\n",
      "Epoch 40: val_loss improved from 0.00021 to 0.00020, saving model to tmp\\ckeckpointer.ckpt\n",
      "13/13 [==============================] - 0s 13ms/step - loss: 1.9838e-04 - mse: 3.9676e-04 - val_loss: 1.9834e-04 - val_mse: 3.9668e-04\n",
      "Epoch 41/50\n",
      "10/13 [======================>.......] - ETA: 0s - loss: 1.8311e-04 - mse: 3.6621e-04\n",
      "Epoch 41: val_loss did not improve from 0.00020\n",
      "13/13 [==============================] - 0s 11ms/step - loss: 1.7467e-04 - mse: 3.4933e-04 - val_loss: 2.1309e-04 - val_mse: 4.2619e-04\n",
      "Epoch 42/50\n",
      "10/13 [======================>.......] - ETA: 0s - loss: 1.4470e-04 - mse: 2.8940e-04\n",
      "Epoch 42: val_loss did not improve from 0.00020\n",
      "13/13 [==============================] - 0s 11ms/step - loss: 1.6992e-04 - mse: 3.3984e-04 - val_loss: 1.9957e-04 - val_mse: 3.9913e-04\n",
      "Epoch 43/50\n",
      "10/13 [======================>.......] - ETA: 0s - loss: 2.0969e-04 - mse: 4.1938e-04\n",
      "Epoch 43: val_loss did not improve from 0.00020\n",
      "13/13 [==============================] - 0s 11ms/step - loss: 2.2436e-04 - mse: 4.4873e-04 - val_loss: 2.1806e-04 - val_mse: 4.3611e-04\n",
      "Epoch 44/50\n",
      "10/13 [======================>.......] - ETA: 0s - loss: 1.7045e-04 - mse: 3.4091e-04\n",
      "Epoch 44: val_loss did not improve from 0.00020\n",
      "13/13 [==============================] - 0s 10ms/step - loss: 1.8193e-04 - mse: 3.6387e-04 - val_loss: 3.7114e-04 - val_mse: 7.4228e-04\n",
      "Epoch 45/50\n",
      "10/13 [======================>.......] - ETA: 0s - loss: 2.0854e-04 - mse: 4.1709e-04\n",
      "Epoch 45: val_loss did not improve from 0.00020\n",
      "13/13 [==============================] - 0s 11ms/step - loss: 2.0058e-04 - mse: 4.0116e-04 - val_loss: 8.2506e-04 - val_mse: 0.0017\n",
      "Epoch 46/50\n",
      "10/13 [======================>.......] - ETA: 0s - loss: 1.9437e-04 - mse: 3.8874e-04\n",
      "Epoch 46: val_loss did not improve from 0.00020\n",
      "13/13 [==============================] - 0s 11ms/step - loss: 2.1699e-04 - mse: 4.3397e-04 - val_loss: 3.3110e-04 - val_mse: 6.6221e-04\n",
      "Epoch 47/50\n",
      " 8/13 [=================>............] - ETA: 0s - loss: 1.7577e-04 - mse: 3.5154e-04\n",
      "Epoch 47: val_loss did not improve from 0.00020\n",
      "13/13 [==============================] - 0s 12ms/step - loss: 2.0304e-04 - mse: 4.0608e-04 - val_loss: 2.4910e-04 - val_mse: 4.9821e-04\n",
      "Epoch 48/50\n",
      " 9/13 [===================>..........] - ETA: 0s - loss: 3.0525e-04 - mse: 6.1050e-04\n",
      "Epoch 48: val_loss did not improve from 0.00020\n",
      "13/13 [==============================] - 0s 11ms/step - loss: 2.6386e-04 - mse: 5.2772e-04 - val_loss: 3.4942e-04 - val_mse: 6.9884e-04\n",
      "Epoch 49/50\n",
      " 9/13 [===================>..........] - ETA: 0s - loss: 1.8965e-04 - mse: 3.7930e-04\n",
      "Epoch 49: val_loss did not improve from 0.00020\n",
      "13/13 [==============================] - 0s 12ms/step - loss: 1.7513e-04 - mse: 3.5026e-04 - val_loss: 2.2944e-04 - val_mse: 4.5887e-04\n",
      "Epoch 50/50\n",
      " 9/13 [===================>..........] - ETA: 0s - loss: 1.5640e-04 - mse: 3.1281e-04\n",
      "Epoch 50: val_loss did not improve from 0.00020\n",
      "13/13 [==============================] - 0s 12ms/step - loss: 1.4666e-04 - mse: 2.9331e-04 - val_loss: 2.9157e-04 - val_mse: 5.8314e-04\n"
     ]
    }
   ],
   "source": [
    "history = model.fit(train_data, \n",
    "                    validation_data=(test_data), \n",
    "                    epochs=50,   #50번 학습\n",
    "                    callbacks=[checkpoint, earlystopping])"
   ]
  },
  {
   "cell_type": "code",
   "execution_count": 39,
   "id": "02a0fabb",
   "metadata": {},
   "outputs": [],
   "source": [
    "pred = model.predict(test_data)"
   ]
  },
  {
   "cell_type": "code",
   "execution_count": 40,
   "id": "152976f4",
   "metadata": {},
   "outputs": [
    {
     "data": {
      "text/plain": [
       "(158, 1)"
      ]
     },
     "execution_count": 40,
     "metadata": {},
     "output_type": "execute_result"
    }
   ],
   "source": [
    "pred.shape"
   ]
  },
  {
   "cell_type": "code",
   "execution_count": 41,
   "id": "9d574ed2",
   "metadata": {},
   "outputs": [
    {
     "data": {
      "text/plain": [
       "438    0.835319\n",
       "439    0.807288\n",
       "440    0.831815\n",
       "441    0.838823\n",
       "442    0.821303\n",
       "         ...   \n",
       "621    0.386805\n",
       "622    0.371500\n",
       "623    0.389587\n",
       "624    0.388892\n",
       "625    0.372892\n",
       "Name: Close, Length: 188, dtype: float64"
      ]
     },
     "execution_count": 41,
     "metadata": {},
     "output_type": "execute_result"
    }
   ],
   "source": [
    "y_test"
   ]
  },
  {
   "cell_type": "code",
   "execution_count": 65,
   "id": "026e8ae9",
   "metadata": {},
   "outputs": [
    {
     "data": {
      "image/png": "[encoded data removed]",
      "text/plain": [
       "<Figure size 864x648 with 1 Axes>"
      ]
     },
     "metadata": {
      "needs_background": "dark"
     },
     "output_type": "display_data"
    }
   ],
   "source": [
    "plt.figure(figsize=(12, 9))\n",
    "plt.plot(np.asarray(y_test)[30:], label='actual')\n",
    "plt.plot(pred, label='prediction')\n",
    "plt.tick_params(axis='x', labelcolor='white')\n",
    "plt.tick_params(axis='y', labelcolor='white')\n",
    "plt.legend()\n",
    "plt.show()"
   ]
  },
  {
   "cell_type": "code",
   "execution_count": 49,
   "id": "33fdf8a6",
   "metadata": {},
   "outputs": [
    {
     "data": {
      "text/plain": [
       "array([0.639103  , 0.62859143, 0.59004903, 0.60406447, 0.64961456,\n",
       "       0.63559912, 0.60756829, 0.6320953 , 0.66362995, 0.66713382,\n",
       "       0.66362995, 0.70567622, 0.70918009, 0.70918009, 0.70567622,\n",
       "       0.69516465, 0.70567622, 0.71268391, 0.69166083, 0.69166083,\n",
       "       0.69166083, 0.70918009, 0.68465309, 0.72319548, 0.71268391,\n",
       "       0.68815696, 0.69166083, 0.68114927, 0.69166083, 0.70217235,\n",
       "       0.71618779, 0.70567622, 0.68815696, 0.68465309, 0.70217235,\n",
       "       0.71268391, 0.68465309, 0.68465309, 0.70918009, 0.69166083,\n",
       "       0.67414152, 0.66713382, 0.6706377 , 0.6706377 , 0.67764539,\n",
       "       0.66012613, 0.65662226, 0.66012613, 0.6706377 , 0.6706377 ,\n",
       "       0.65311844, 0.64260687, 0.64260687, 0.64961456, 0.63559912,\n",
       "       0.60406447, 0.61457604, 0.61457604, 0.60406447, 0.61457604,\n",
       "       0.60406447, 0.60756829, 0.61107217, 0.6005606 , 0.59355291,\n",
       "       0.55150664, 0.51296424, 0.51296424, 0.48913805, 0.47792572,\n",
       "       0.49334269, 0.48983881, 0.47021721, 0.46320951, 0.45690258,\n",
       "       0.44569025, 0.45900488, 0.45550106, 0.44288714, 0.42606865,\n",
       "       0.42606865, 0.39103012, 0.40784862, 0.40854938, 0.42256483,\n",
       "       0.42887176, 0.42887176, 0.42887176, 0.42396635, 0.45480029,\n",
       "       0.43447792, 0.43097405, 0.45620182, 0.44709178, 0.45269795,\n",
       "       0.45269795, 0.45269795, 0.45269795, 0.44288714, 0.47372108,\n",
       "       0.47372108, 0.48002801, 0.48913805, 0.48913805, 0.45409947,\n",
       "       0.45760335, 0.45760335, 0.45760335, 0.53749125, 0.53749125,\n",
       "       0.53749125, 0.53749125, 0.57252977, 0.57252977, 0.55851433,\n",
       "       0.55851433, 0.54800276, 0.54800276, 0.54800276, 0.55150664,\n",
       "       0.55851433, 0.55851433, 0.55501051, 0.55150664, 0.56552208,\n",
       "       0.54800276, 0.51226348, 0.49894885, 0.47862648, 0.47161879,\n",
       "       0.48353188, 0.48563418, 0.48072877, 0.47372108, 0.47862648,\n",
       "       0.47862648, 0.46811492, 0.45690258, 0.44078485, 0.44428873,\n",
       "       0.43167481, 0.4379818 , 0.44218638, 0.42396635, 0.43237563,\n",
       "       0.43587945, 0.40294322, 0.39803782, 0.41065173, 0.3777155 ,\n",
       "       0.38542396, 0.38471765, 0.39097855, 0.38680462, 0.3715002 ,\n",
       "       0.38958724, 0.38889158, 0.37289151])"
      ]
     },
     "execution_count": 49,
     "metadata": {},
     "output_type": "execute_result"
    }
   ],
   "source": [
    "np.asarray(y_test)[30:]"
   ]
  },
  {
   "cell_type": "code",
   "execution_count": 52,
   "id": "7894882a",
   "metadata": {},
   "outputs": [
    {
     "data": {
      "text/plain": [
       "0.02346632931522957"
      ]
     },
     "execution_count": 52,
     "metadata": {},
     "output_type": "execute_result"
    }
   ],
   "source": [
    "def MSE(y_test, y_pred):\n",
    "    return np.mean(np.square((y_test - y_pred)))\n",
    "\n",
    "MSE(np.asarray(y_test)[30:], pred)"
   ]
  },
  {
   "cell_type": "code",
   "execution_count": 56,
   "id": "2d22922f",
   "metadata": {},
   "outputs": [
    {
     "name": "stdout",
     "output_type": "stream",
     "text": [
      "MAPE: 23.812\n"
     ]
    }
   ],
   "source": [
    "def MAPE(y_test, y_pred):\n",
    "\treturn np.mean(np.abs((y_test - y_pred) / y_test)) * 100 \n",
    "    \n",
    "print(f\"MAPE: {MAPE(np.asarray(y_test)[30:], pred):.3f}\")"
   ]
  },
  {
   "cell_type": "code",
   "execution_count": 58,
   "id": "8abaf983",
   "metadata": {},
   "outputs": [
    {
     "data": {
      "text/plain": [
       "-6.796033025238518"
      ]
     },
     "execution_count": 58,
     "metadata": {},
     "output_type": "execute_result"
    }
   ],
   "source": [
    "def MPE(y_test, y_pred): \n",
    "    return np.mean((y_test - y_pred) / y_test) * 100\n",
    "MPE(np.asarray(y_test)[30:], pred)"
   ]
  }
 ],
 "metadata": {
  "kernelspec": {
   "display_name": "py_397",
   "language": "python",
   "name": "py_397"
  },
  "language_info": {
   "codemirror_mode": {
    "name": "ipython",
    "version": 3
   },
   "file_extension": ".py",
   "mimetype": "text/x-python",
   "name": "python",
   "nbconvert_exporter": "python",
   "pygments_lexer": "ipython3",
   "version": "3.9.7"
  }
 },
 "nbformat": 4,
 "nbformat_minor": 5
}
